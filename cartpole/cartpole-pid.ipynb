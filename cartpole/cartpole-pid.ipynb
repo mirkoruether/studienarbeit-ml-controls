{
 "cells": [
  {
   "cell_type": "code",
   "execution_count": 1,
   "metadata": {},
   "outputs": [
    {
     "name": "stdout",
     "output_type": "stream",
     "text": [
      "Requirement already satisfied: pyglet in c:\\source\\studienarbeit-ml-controls\\.env\\lib\\site-packages (from -r ../requirements.txt (line 2)) (2.0.10)\n",
      "Requirement already satisfied: pandas in c:\\source\\studienarbeit-ml-controls\\.env\\lib\\site-packages (from -r ../requirements.txt (line 3)) (2.1.4)\n",
      "Requirement already satisfied: numpy in c:\\source\\studienarbeit-ml-controls\\.env\\lib\\site-packages (from -r ../requirements.txt (line 4)) (1.26.2)\n",
      "Requirement already satisfied: scipy in c:\\source\\studienarbeit-ml-controls\\.env\\lib\\site-packages (from -r ../requirements.txt (line 5)) (1.11.4)\n",
      "Requirement already satisfied: matplotlib in c:\\source\\studienarbeit-ml-controls\\.env\\lib\\site-packages (from -r ../requirements.txt (line 6)) (3.8.2)\n",
      "Requirement already satisfied: seaborn in c:\\source\\studienarbeit-ml-controls\\.env\\lib\\site-packages (from -r ../requirements.txt (line 7)) (0.13.0)\n",
      "Requirement already satisfied: plotly in c:\\source\\studienarbeit-ml-controls\\.env\\lib\\site-packages (from -r ../requirements.txt (line 8)) (5.18.0)\n",
      "Requirement already satisfied: ipykernel in c:\\source\\studienarbeit-ml-controls\\.env\\lib\\site-packages (from -r ../requirements.txt (line 9)) (6.27.1)\n",
      "Requirement already satisfied: ipywidgets in c:\\source\\studienarbeit-ml-controls\\.env\\lib\\site-packages (from -r ../requirements.txt (line 10)) (8.1.1)\n",
      "Requirement already satisfied: nbformat in c:\\source\\studienarbeit-ml-controls\\.env\\lib\\site-packages (from -r ../requirements.txt (line 11)) (5.9.2)\n",
      "Requirement already satisfied: jupyter in c:\\source\\studienarbeit-ml-controls\\.env\\lib\\site-packages (from -r ../requirements.txt (line 12)) (1.0.0)\n",
      "Requirement already satisfied: notebook in c:\\source\\studienarbeit-ml-controls\\.env\\lib\\site-packages (from -r ../requirements.txt (line 13)) (7.0.6)\n",
      "Requirement already satisfied: gymnasium[classic-control] in c:\\source\\studienarbeit-ml-controls\\.env\\lib\\site-packages (from -r ../requirements.txt (line 1)) (0.29.1)\n",
      "Requirement already satisfied: cloudpickle>=1.2.0 in c:\\source\\studienarbeit-ml-controls\\.env\\lib\\site-packages (from gymnasium[classic-control]->-r ../requirements.txt (line 1)) (3.0.0)\n",
      "Requirement already satisfied: typing-extensions>=4.3.0 in c:\\source\\studienarbeit-ml-controls\\.env\\lib\\site-packages (from gymnasium[classic-control]->-r ../requirements.txt (line 1)) (4.9.0)\n",
      "Requirement already satisfied: farama-notifications>=0.0.1 in c:\\source\\studienarbeit-ml-controls\\.env\\lib\\site-packages (from gymnasium[classic-control]->-r ../requirements.txt (line 1)) (0.0.4)\n",
      "Requirement already satisfied: pygame>=2.1.3 in c:\\source\\studienarbeit-ml-controls\\.env\\lib\\site-packages (from gymnasium[classic-control]->-r ../requirements.txt (line 1)) (2.5.2)\n",
      "Requirement already satisfied: python-dateutil>=2.8.2 in c:\\source\\studienarbeit-ml-controls\\.env\\lib\\site-packages (from pandas->-r ../requirements.txt (line 3)) (2.8.2)\n",
      "Requirement already satisfied: pytz>=2020.1 in c:\\source\\studienarbeit-ml-controls\\.env\\lib\\site-packages (from pandas->-r ../requirements.txt (line 3)) (2023.3.post1)\n",
      "Requirement already satisfied: tzdata>=2022.1 in c:\\source\\studienarbeit-ml-controls\\.env\\lib\\site-packages (from pandas->-r ../requirements.txt (line 3)) (2023.3)\n",
      "Requirement already satisfied: contourpy>=1.0.1 in c:\\source\\studienarbeit-ml-controls\\.env\\lib\\site-packages (from matplotlib->-r ../requirements.txt (line 6)) (1.2.0)\n",
      "Requirement already satisfied: cycler>=0.10 in c:\\source\\studienarbeit-ml-controls\\.env\\lib\\site-packages (from matplotlib->-r ../requirements.txt (line 6)) (0.12.1)\n",
      "Requirement already satisfied: fonttools>=4.22.0 in c:\\source\\studienarbeit-ml-controls\\.env\\lib\\site-packages (from matplotlib->-r ../requirements.txt (line 6)) (4.46.0)\n",
      "Requirement already satisfied: kiwisolver>=1.3.1 in c:\\source\\studienarbeit-ml-controls\\.env\\lib\\site-packages (from matplotlib->-r ../requirements.txt (line 6)) (1.4.5)\n",
      "Requirement already satisfied: packaging>=20.0 in c:\\source\\studienarbeit-ml-controls\\.env\\lib\\site-packages (from matplotlib->-r ../requirements.txt (line 6)) (23.2)\n",
      "Requirement already satisfied: pillow>=8 in c:\\source\\studienarbeit-ml-controls\\.env\\lib\\site-packages (from matplotlib->-r ../requirements.txt (line 6)) (10.1.0)\n",
      "Requirement already satisfied: pyparsing>=2.3.1 in c:\\source\\studienarbeit-ml-controls\\.env\\lib\\site-packages (from matplotlib->-r ../requirements.txt (line 6)) (3.1.1)\n",
      "Requirement already satisfied: tenacity>=6.2.0 in c:\\source\\studienarbeit-ml-controls\\.env\\lib\\site-packages (from plotly->-r ../requirements.txt (line 8)) (8.2.3)\n",
      "Requirement already satisfied: comm>=0.1.1 in c:\\source\\studienarbeit-ml-controls\\.env\\lib\\site-packages (from ipykernel->-r ../requirements.txt (line 9)) (0.2.0)\n",
      "Requirement already satisfied: debugpy>=1.6.5 in c:\\source\\studienarbeit-ml-controls\\.env\\lib\\site-packages (from ipykernel->-r ../requirements.txt (line 9)) (1.8.0)\n",
      "Requirement already satisfied: ipython>=7.23.1 in c:\\source\\studienarbeit-ml-controls\\.env\\lib\\site-packages (from ipykernel->-r ../requirements.txt (line 9)) (8.18.1)\n",
      "Requirement already satisfied: jupyter-client>=6.1.12 in c:\\source\\studienarbeit-ml-controls\\.env\\lib\\site-packages (from ipykernel->-r ../requirements.txt (line 9)) (8.6.0)\n",
      "Requirement already satisfied: jupyter-core!=5.0.*,>=4.12 in c:\\source\\studienarbeit-ml-controls\\.env\\lib\\site-packages (from ipykernel->-r ../requirements.txt (line 9)) (5.5.0)\n",
      "Requirement already satisfied: matplotlib-inline>=0.1 in c:\\source\\studienarbeit-ml-controls\\.env\\lib\\site-packages (from ipykernel->-r ../requirements.txt (line 9)) (0.1.6)\n",
      "Requirement already satisfied: nest-asyncio in c:\\source\\studienarbeit-ml-controls\\.env\\lib\\site-packages (from ipykernel->-r ../requirements.txt (line 9)) (1.5.8)\n",
      "Requirement already satisfied: psutil in c:\\source\\studienarbeit-ml-controls\\.env\\lib\\site-packages (from ipykernel->-r ../requirements.txt (line 9)) (5.9.7)\n",
      "Requirement already satisfied: pyzmq>=20 in c:\\source\\studienarbeit-ml-controls\\.env\\lib\\site-packages (from ipykernel->-r ../requirements.txt (line 9)) (25.1.2)\n",
      "Requirement already satisfied: tornado>=6.1 in c:\\source\\studienarbeit-ml-controls\\.env\\lib\\site-packages (from ipykernel->-r ../requirements.txt (line 9)) (6.4)\n",
      "Requirement already satisfied: traitlets>=5.4.0 in c:\\source\\studienarbeit-ml-controls\\.env\\lib\\site-packages (from ipykernel->-r ../requirements.txt (line 9)) (5.14.0)\n",
      "Requirement already satisfied: widgetsnbextension~=4.0.9 in c:\\source\\studienarbeit-ml-controls\\.env\\lib\\site-packages (from ipywidgets->-r ../requirements.txt (line 10)) (4.0.9)\n",
      "Requirement already satisfied: jupyterlab-widgets~=3.0.9 in c:\\source\\studienarbeit-ml-controls\\.env\\lib\\site-packages (from ipywidgets->-r ../requirements.txt (line 10)) (3.0.9)\n",
      "Requirement already satisfied: fastjsonschema in c:\\source\\studienarbeit-ml-controls\\.env\\lib\\site-packages (from nbformat->-r ../requirements.txt (line 11)) (2.19.0)\n",
      "Requirement already satisfied: jsonschema>=2.6 in c:\\source\\studienarbeit-ml-controls\\.env\\lib\\site-packages (from nbformat->-r ../requirements.txt (line 11)) (4.20.0)\n",
      "Requirement already satisfied: qtconsole in c:\\source\\studienarbeit-ml-controls\\.env\\lib\\site-packages (from jupyter->-r ../requirements.txt (line 12)) (5.5.1)\n",
      "Requirement already satisfied: jupyter-console in c:\\source\\studienarbeit-ml-controls\\.env\\lib\\site-packages (from jupyter->-r ../requirements.txt (line 12)) (6.6.3)\n",
      "Requirement already satisfied: nbconvert in c:\\source\\studienarbeit-ml-controls\\.env\\lib\\site-packages (from jupyter->-r ../requirements.txt (line 12)) (7.13.0)\n",
      "Requirement already satisfied: jupyter-server<3,>=2.4.0 in c:\\source\\studienarbeit-ml-controls\\.env\\lib\\site-packages (from notebook->-r ../requirements.txt (line 13)) (2.12.1)\n",
      "Requirement already satisfied: jupyterlab-server<3,>=2.22.1 in c:\\source\\studienarbeit-ml-controls\\.env\\lib\\site-packages (from notebook->-r ../requirements.txt (line 13)) (2.25.2)\n",
      "Requirement already satisfied: jupyterlab<5,>=4.0.2 in c:\\source\\studienarbeit-ml-controls\\.env\\lib\\site-packages (from notebook->-r ../requirements.txt (line 13)) (4.0.9)\n",
      "Requirement already satisfied: notebook-shim<0.3,>=0.2 in c:\\source\\studienarbeit-ml-controls\\.env\\lib\\site-packages (from notebook->-r ../requirements.txt (line 13)) (0.2.3)\n",
      "Requirement already satisfied: decorator in c:\\source\\studienarbeit-ml-controls\\.env\\lib\\site-packages (from ipython>=7.23.1->ipykernel->-r ../requirements.txt (line 9)) (5.1.1)\n",
      "Requirement already satisfied: jedi>=0.16 in c:\\source\\studienarbeit-ml-controls\\.env\\lib\\site-packages (from ipython>=7.23.1->ipykernel->-r ../requirements.txt (line 9)) (0.19.1)\n",
      "Requirement already satisfied: prompt-toolkit<3.1.0,>=3.0.41 in c:\\source\\studienarbeit-ml-controls\\.env\\lib\\site-packages (from ipython>=7.23.1->ipykernel->-r ../requirements.txt (line 9)) (3.0.43)\n",
      "Requirement already satisfied: pygments>=2.4.0 in c:\\source\\studienarbeit-ml-controls\\.env\\lib\\site-packages (from ipython>=7.23.1->ipykernel->-r ../requirements.txt (line 9)) (2.17.2)\n",
      "Requirement already satisfied: stack-data in c:\\source\\studienarbeit-ml-controls\\.env\\lib\\site-packages (from ipython>=7.23.1->ipykernel->-r ../requirements.txt (line 9)) (0.6.3)\n",
      "Requirement already satisfied: colorama in c:\\source\\studienarbeit-ml-controls\\.env\\lib\\site-packages (from ipython>=7.23.1->ipykernel->-r ../requirements.txt (line 9)) (0.4.6)\n",
      "Requirement already satisfied: attrs>=22.2.0 in c:\\source\\studienarbeit-ml-controls\\.env\\lib\\site-packages (from jsonschema>=2.6->nbformat->-r ../requirements.txt (line 11)) (23.1.0)\n",
      "Requirement already satisfied: jsonschema-specifications>=2023.03.6 in c:\\source\\studienarbeit-ml-controls\\.env\\lib\\site-packages (from jsonschema>=2.6->nbformat->-r ../requirements.txt (line 11)) (2023.11.2)\n",
      "Requirement already satisfied: referencing>=0.28.4 in c:\\source\\studienarbeit-ml-controls\\.env\\lib\\site-packages (from jsonschema>=2.6->nbformat->-r ../requirements.txt (line 11)) (0.32.0)\n",
      "Requirement already satisfied: rpds-py>=0.7.1 in c:\\source\\studienarbeit-ml-controls\\.env\\lib\\site-packages (from jsonschema>=2.6->nbformat->-r ../requirements.txt (line 11)) (0.15.2)\n",
      "Requirement already satisfied: platformdirs>=2.5 in c:\\source\\studienarbeit-ml-controls\\.env\\lib\\site-packages (from jupyter-core!=5.0.*,>=4.12->ipykernel->-r ../requirements.txt (line 9)) (4.1.0)\n",
      "Requirement already satisfied: pywin32>=300 in c:\\source\\studienarbeit-ml-controls\\.env\\lib\\site-packages (from jupyter-core!=5.0.*,>=4.12->ipykernel->-r ../requirements.txt (line 9)) (306)\n",
      "Requirement already satisfied: anyio>=3.1.0 in c:\\source\\studienarbeit-ml-controls\\.env\\lib\\site-packages (from jupyter-server<3,>=2.4.0->notebook->-r ../requirements.txt (line 13)) (4.2.0)\n",
      "Requirement already satisfied: argon2-cffi in c:\\source\\studienarbeit-ml-controls\\.env\\lib\\site-packages (from jupyter-server<3,>=2.4.0->notebook->-r ../requirements.txt (line 13)) (23.1.0)\n",
      "Requirement already satisfied: jinja2 in c:\\source\\studienarbeit-ml-controls\\.env\\lib\\site-packages (from jupyter-server<3,>=2.4.0->notebook->-r ../requirements.txt (line 13)) (3.1.2)\n",
      "Requirement already satisfied: jupyter-events>=0.9.0 in c:\\source\\studienarbeit-ml-controls\\.env\\lib\\site-packages (from jupyter-server<3,>=2.4.0->notebook->-r ../requirements.txt (line 13)) (0.9.0)\n",
      "Requirement already satisfied: jupyter-server-terminals in c:\\source\\studienarbeit-ml-controls\\.env\\lib\\site-packages (from jupyter-server<3,>=2.4.0->notebook->-r ../requirements.txt (line 13)) (0.5.0)\n",
      "Requirement already satisfied: overrides in c:\\source\\studienarbeit-ml-controls\\.env\\lib\\site-packages (from jupyter-server<3,>=2.4.0->notebook->-r ../requirements.txt (line 13)) (7.4.0)\n",
      "Requirement already satisfied: prometheus-client in c:\\source\\studienarbeit-ml-controls\\.env\\lib\\site-packages (from jupyter-server<3,>=2.4.0->notebook->-r ../requirements.txt (line 13)) (0.19.0)\n",
      "Requirement already satisfied: pywinpty in c:\\source\\studienarbeit-ml-controls\\.env\\lib\\site-packages (from jupyter-server<3,>=2.4.0->notebook->-r ../requirements.txt (line 13)) (2.0.12)\n",
      "Requirement already satisfied: send2trash>=1.8.2 in c:\\source\\studienarbeit-ml-controls\\.env\\lib\\site-packages (from jupyter-server<3,>=2.4.0->notebook->-r ../requirements.txt (line 13)) (1.8.2)\n",
      "Requirement already satisfied: terminado>=0.8.3 in c:\\source\\studienarbeit-ml-controls\\.env\\lib\\site-packages (from jupyter-server<3,>=2.4.0->notebook->-r ../requirements.txt (line 13)) (0.18.0)\n",
      "Requirement already satisfied: websocket-client in c:\\source\\studienarbeit-ml-controls\\.env\\lib\\site-packages (from jupyter-server<3,>=2.4.0->notebook->-r ../requirements.txt (line 13)) (1.7.0)\n",
      "Requirement already satisfied: async-lru>=1.0.0 in c:\\source\\studienarbeit-ml-controls\\.env\\lib\\site-packages (from jupyterlab<5,>=4.0.2->notebook->-r ../requirements.txt (line 13)) (2.0.4)\n",
      "Requirement already satisfied: jupyter-lsp>=2.0.0 in c:\\source\\studienarbeit-ml-controls\\.env\\lib\\site-packages (from jupyterlab<5,>=4.0.2->notebook->-r ../requirements.txt (line 13)) (2.2.1)\n",
      "Requirement already satisfied: babel>=2.10 in c:\\source\\studienarbeit-ml-controls\\.env\\lib\\site-packages (from jupyterlab-server<3,>=2.22.1->notebook->-r ../requirements.txt (line 13)) (2.14.0)\n",
      "Requirement already satisfied: json5>=0.9.0 in c:\\source\\studienarbeit-ml-controls\\.env\\lib\\site-packages (from jupyterlab-server<3,>=2.22.1->notebook->-r ../requirements.txt (line 13)) (0.9.14)\n",
      "Requirement already satisfied: requests>=2.31 in c:\\source\\studienarbeit-ml-controls\\.env\\lib\\site-packages (from jupyterlab-server<3,>=2.22.1->notebook->-r ../requirements.txt (line 13)) (2.31.0)\n",
      "Requirement already satisfied: beautifulsoup4 in c:\\source\\studienarbeit-ml-controls\\.env\\lib\\site-packages (from nbconvert->jupyter->-r ../requirements.txt (line 12)) (4.12.2)\n",
      "Requirement already satisfied: bleach!=5.0.0 in c:\\source\\studienarbeit-ml-controls\\.env\\lib\\site-packages (from nbconvert->jupyter->-r ../requirements.txt (line 12)) (6.1.0)\n",
      "Requirement already satisfied: defusedxml in c:\\source\\studienarbeit-ml-controls\\.env\\lib\\site-packages (from nbconvert->jupyter->-r ../requirements.txt (line 12)) (0.7.1)\n",
      "Requirement already satisfied: jupyterlab-pygments in c:\\source\\studienarbeit-ml-controls\\.env\\lib\\site-packages (from nbconvert->jupyter->-r ../requirements.txt (line 12)) (0.3.0)\n",
      "Requirement already satisfied: markupsafe>=2.0 in c:\\source\\studienarbeit-ml-controls\\.env\\lib\\site-packages (from nbconvert->jupyter->-r ../requirements.txt (line 12)) (2.1.3)\n",
      "Requirement already satisfied: mistune<4,>=2.0.3 in c:\\source\\studienarbeit-ml-controls\\.env\\lib\\site-packages (from nbconvert->jupyter->-r ../requirements.txt (line 12)) (3.0.2)\n",
      "Requirement already satisfied: nbclient>=0.5.0 in c:\\source\\studienarbeit-ml-controls\\.env\\lib\\site-packages (from nbconvert->jupyter->-r ../requirements.txt (line 12)) (0.9.0)\n",
      "Requirement already satisfied: pandocfilters>=1.4.1 in c:\\source\\studienarbeit-ml-controls\\.env\\lib\\site-packages (from nbconvert->jupyter->-r ../requirements.txt (line 12)) (1.5.0)\n",
      "Requirement already satisfied: tinycss2 in c:\\source\\studienarbeit-ml-controls\\.env\\lib\\site-packages (from nbconvert->jupyter->-r ../requirements.txt (line 12)) (1.2.1)\n",
      "Requirement already satisfied: six>=1.5 in c:\\source\\studienarbeit-ml-controls\\.env\\lib\\site-packages (from python-dateutil>=2.8.2->pandas->-r ../requirements.txt (line 3)) (1.16.0)\n",
      "Requirement already satisfied: qtpy>=2.4.0 in c:\\source\\studienarbeit-ml-controls\\.env\\lib\\site-packages (from qtconsole->jupyter->-r ../requirements.txt (line 12)) (2.4.1)\n",
      "Requirement already satisfied: idna>=2.8 in c:\\source\\studienarbeit-ml-controls\\.env\\lib\\site-packages (from anyio>=3.1.0->jupyter-server<3,>=2.4.0->notebook->-r ../requirements.txt (line 13)) (3.6)\n",
      "Requirement already satisfied: sniffio>=1.1 in c:\\source\\studienarbeit-ml-controls\\.env\\lib\\site-packages (from anyio>=3.1.0->jupyter-server<3,>=2.4.0->notebook->-r ../requirements.txt (line 13)) (1.3.0)\n",
      "Requirement already satisfied: webencodings in c:\\source\\studienarbeit-ml-controls\\.env\\lib\\site-packages (from bleach!=5.0.0->nbconvert->jupyter->-r ../requirements.txt (line 12)) (0.5.1)\n",
      "Requirement already satisfied: parso<0.9.0,>=0.8.3 in c:\\source\\studienarbeit-ml-controls\\.env\\lib\\site-packages (from jedi>=0.16->ipython>=7.23.1->ipykernel->-r ../requirements.txt (line 9)) (0.8.3)\n",
      "Requirement already satisfied: python-json-logger>=2.0.4 in c:\\source\\studienarbeit-ml-controls\\.env\\lib\\site-packages (from jupyter-events>=0.9.0->jupyter-server<3,>=2.4.0->notebook->-r ../requirements.txt (line 13)) (2.0.7)\n",
      "Requirement already satisfied: pyyaml>=5.3 in c:\\source\\studienarbeit-ml-controls\\.env\\lib\\site-packages (from jupyter-events>=0.9.0->jupyter-server<3,>=2.4.0->notebook->-r ../requirements.txt (line 13)) (6.0.1)\n",
      "Requirement already satisfied: rfc3339-validator in c:\\source\\studienarbeit-ml-controls\\.env\\lib\\site-packages (from jupyter-events>=0.9.0->jupyter-server<3,>=2.4.0->notebook->-r ../requirements.txt (line 13)) (0.1.4)\n",
      "Requirement already satisfied: rfc3986-validator>=0.1.1 in c:\\source\\studienarbeit-ml-controls\\.env\\lib\\site-packages (from jupyter-events>=0.9.0->jupyter-server<3,>=2.4.0->notebook->-r ../requirements.txt (line 13)) (0.1.1)\n",
      "Requirement already satisfied: wcwidth in c:\\source\\studienarbeit-ml-controls\\.env\\lib\\site-packages (from prompt-toolkit<3.1.0,>=3.0.41->ipython>=7.23.1->ipykernel->-r ../requirements.txt (line 9)) (0.2.12)\n",
      "Requirement already satisfied: charset-normalizer<4,>=2 in c:\\source\\studienarbeit-ml-controls\\.env\\lib\\site-packages (from requests>=2.31->jupyterlab-server<3,>=2.22.1->notebook->-r ../requirements.txt (line 13)) (3.3.2)\n",
      "Requirement already satisfied: urllib3<3,>=1.21.1 in c:\\source\\studienarbeit-ml-controls\\.env\\lib\\site-packages (from requests>=2.31->jupyterlab-server<3,>=2.22.1->notebook->-r ../requirements.txt (line 13)) (2.1.0)\n",
      "Requirement already satisfied: certifi>=2017.4.17 in c:\\source\\studienarbeit-ml-controls\\.env\\lib\\site-packages (from requests>=2.31->jupyterlab-server<3,>=2.22.1->notebook->-r ../requirements.txt (line 13)) (2023.11.17)\n",
      "Requirement already satisfied: argon2-cffi-bindings in c:\\source\\studienarbeit-ml-controls\\.env\\lib\\site-packages (from argon2-cffi->jupyter-server<3,>=2.4.0->notebook->-r ../requirements.txt (line 13)) (21.2.0)\n",
      "Requirement already satisfied: soupsieve>1.2 in c:\\source\\studienarbeit-ml-controls\\.env\\lib\\site-packages (from beautifulsoup4->nbconvert->jupyter->-r ../requirements.txt (line 12)) (2.5)\n",
      "Requirement already satisfied: executing>=1.2.0 in c:\\source\\studienarbeit-ml-controls\\.env\\lib\\site-packages (from stack-data->ipython>=7.23.1->ipykernel->-r ../requirements.txt (line 9)) (2.0.1)\n",
      "Requirement already satisfied: asttokens>=2.1.0 in c:\\source\\studienarbeit-ml-controls\\.env\\lib\\site-packages (from stack-data->ipython>=7.23.1->ipykernel->-r ../requirements.txt (line 9)) (2.4.1)\n",
      "Requirement already satisfied: pure-eval in c:\\source\\studienarbeit-ml-controls\\.env\\lib\\site-packages (from stack-data->ipython>=7.23.1->ipykernel->-r ../requirements.txt (line 9)) (0.2.2)\n",
      "Requirement already satisfied: fqdn in c:\\source\\studienarbeit-ml-controls\\.env\\lib\\site-packages (from jsonschema[format-nongpl]>=4.18.0->jupyter-events>=0.9.0->jupyter-server<3,>=2.4.0->notebook->-r ../requirements.txt (line 13)) (1.5.1)\n",
      "Requirement already satisfied: isoduration in c:\\source\\studienarbeit-ml-controls\\.env\\lib\\site-packages (from jsonschema[format-nongpl]>=4.18.0->jupyter-events>=0.9.0->jupyter-server<3,>=2.4.0->notebook->-r ../requirements.txt (line 13)) (20.11.0)\n",
      "Requirement already satisfied: jsonpointer>1.13 in c:\\source\\studienarbeit-ml-controls\\.env\\lib\\site-packages (from jsonschema[format-nongpl]>=4.18.0->jupyter-events>=0.9.0->jupyter-server<3,>=2.4.0->notebook->-r ../requirements.txt (line 13)) (2.4)\n",
      "Requirement already satisfied: uri-template in c:\\source\\studienarbeit-ml-controls\\.env\\lib\\site-packages (from jsonschema[format-nongpl]>=4.18.0->jupyter-events>=0.9.0->jupyter-server<3,>=2.4.0->notebook->-r ../requirements.txt (line 13)) (1.3.0)\n",
      "Requirement already satisfied: webcolors>=1.11 in c:\\source\\studienarbeit-ml-controls\\.env\\lib\\site-packages (from jsonschema[format-nongpl]>=4.18.0->jupyter-events>=0.9.0->jupyter-server<3,>=2.4.0->notebook->-r ../requirements.txt (line 13)) (1.13)\n",
      "Requirement already satisfied: cffi>=1.0.1 in c:\\source\\studienarbeit-ml-controls\\.env\\lib\\site-packages (from argon2-cffi-bindings->argon2-cffi->jupyter-server<3,>=2.4.0->notebook->-r ../requirements.txt (line 13)) (1.16.0)\n",
      "Requirement already satisfied: pycparser in c:\\source\\studienarbeit-ml-controls\\.env\\lib\\site-packages (from cffi>=1.0.1->argon2-cffi-bindings->argon2-cffi->jupyter-server<3,>=2.4.0->notebook->-r ../requirements.txt (line 13)) (2.21)\n",
      "Requirement already satisfied: arrow>=0.15.0 in c:\\source\\studienarbeit-ml-controls\\.env\\lib\\site-packages (from isoduration->jsonschema[format-nongpl]>=4.18.0->jupyter-events>=0.9.0->jupyter-server<3,>=2.4.0->notebook->-r ../requirements.txt (line 13)) (1.3.0)\n",
      "Requirement already satisfied: types-python-dateutil>=2.8.10 in c:\\source\\studienarbeit-ml-controls\\.env\\lib\\site-packages (from arrow>=0.15.0->isoduration->jsonschema[format-nongpl]>=4.18.0->jupyter-events>=0.9.0->jupyter-server<3,>=2.4.0->notebook->-r ../requirements.txt (line 13)) (2.8.19.14)\n",
      "Note: you may need to restart the kernel to use updated packages.\n"
     ]
    }
   ],
   "source": [
    "# %pip install -U pip wheel\n",
    "# %pip install -r ../requirements.txt"
   ]
  },
  {
   "cell_type": "code",
   "execution_count": 2,
   "metadata": {},
   "outputs": [],
   "source": [
    "import numpy as np\n",
    "import pandas as pd\n",
    "import importlib\n",
    "\n",
    "from ipywidgets import interact, interactive, fixed, interact_manual\n",
    "import ipywidgets as widgets\n",
    "from typing import Dict, Tuple\n"
   ]
  },
  {
   "cell_type": "code",
   "execution_count": 3,
   "metadata": {},
   "outputs": [],
   "source": [
    "import cartpole_util\n",
    "_ = importlib.reload(cartpole_util)"
   ]
  },
  {
   "cell_type": "code",
   "execution_count": 4,
   "metadata": {},
   "outputs": [],
   "source": [
    "class PidAgent(cartpole_util.CartPoleAgentABC):\n",
    "    def __init__(self, KP:float, KI:float, KD:float) -> None:\n",
    "        self.KP = KP\n",
    "        self.KI = KI\n",
    "        self.KD = KD\n",
    "\n",
    "        self.desired_mask = np.array([0.1, 0, 1, 0])\n",
    "\n",
    "    def reset(self) -> None:\n",
    "        self.integral = 0\n",
    "        self.derivative = 0\n",
    "        self.prev_error = 0\n",
    "\n",
    "    def step(self, env_state: np.ndarray, env_reward: float, cartpos_setpoint: float) -> Tuple[int, Dict[str, object]]:\n",
    "        desired_state = np.array([cartpos_setpoint, 0, 0, 0])\n",
    "\n",
    "        error = env_state - desired_state\n",
    "\n",
    "        self.integral += error\n",
    "        self.derivative = error - self.prev_error\n",
    "        self.prev_error = error\n",
    "\n",
    "        pids = self.KP * error + self.KI * self.integral + self.KD * self.derivative \n",
    "        pid = np.dot(pids, self.desired_mask)\n",
    "\n",
    "        action = 0 if pid <= 0 else 1\n",
    "\n",
    "        return action, {\"pid_total\": pid, \"pid_pos\": pids[0], \"pid_ang\": pids[2]}"
   ]
  },
  {
   "cell_type": "code",
   "execution_count": 5,
   "metadata": {},
   "outputs": [
    {
     "data": {
      "text/html": [
       "<div>\n",
       "<style scoped>\n",
       "    .dataframe tbody tr th:only-of-type {\n",
       "        vertical-align: middle;\n",
       "    }\n",
       "\n",
       "    .dataframe tbody tr th {\n",
       "        vertical-align: top;\n",
       "    }\n",
       "\n",
       "    .dataframe thead th {\n",
       "        text-align: right;\n",
       "    }\n",
       "</style>\n",
       "<table border=\"1\" class=\"dataframe\">\n",
       "  <thead>\n",
       "    <tr style=\"text-align: right;\">\n",
       "      <th></th>\n",
       "      <th>ep</th>\n",
       "      <th>t</th>\n",
       "      <th>cart_pos_setpoint</th>\n",
       "      <th>cart_pos</th>\n",
       "      <th>cart_vel</th>\n",
       "      <th>pole_ang</th>\n",
       "      <th>pole_vel</th>\n",
       "      <th>agent_pid_total</th>\n",
       "      <th>agent_pid_pos</th>\n",
       "      <th>agent_pid_ang</th>\n",
       "      <th>env_info</th>\n",
       "    </tr>\n",
       "  </thead>\n",
       "  <tbody>\n",
       "    <tr>\n",
       "      <th>0</th>\n",
       "      <td>0</td>\n",
       "      <td>0</td>\n",
       "      <td>0.0</td>\n",
       "      <td>-0.046289</td>\n",
       "      <td>-0.180237</td>\n",
       "      <td>-0.046584</td>\n",
       "      <td>0.236064</td>\n",
       "      <td>-0.030747</td>\n",
       "      <td>-0.028409</td>\n",
       "      <td>-0.027906</td>\n",
       "      <td>{}</td>\n",
       "    </tr>\n",
       "    <tr>\n",
       "      <th>1</th>\n",
       "      <td>0</td>\n",
       "      <td>1</td>\n",
       "      <td>0.0</td>\n",
       "      <td>-0.049893</td>\n",
       "      <td>-0.374663</td>\n",
       "      <td>-0.041863</td>\n",
       "      <td>0.513696</td>\n",
       "      <td>-0.006542</td>\n",
       "      <td>-0.005415</td>\n",
       "      <td>-0.006000</td>\n",
       "      <td>{}</td>\n",
       "    </tr>\n",
       "    <tr>\n",
       "      <th>2</th>\n",
       "      <td>0</td>\n",
       "      <td>2</td>\n",
       "      <td>0.0</td>\n",
       "      <td>-0.057387</td>\n",
       "      <td>-0.569171</td>\n",
       "      <td>-0.031589</td>\n",
       "      <td>0.792899</td>\n",
       "      <td>-0.003990</td>\n",
       "      <td>-0.008219</td>\n",
       "      <td>-0.003168</td>\n",
       "      <td>{}</td>\n",
       "    </tr>\n",
       "    <tr>\n",
       "      <th>3</th>\n",
       "      <td>0</td>\n",
       "      <td>3</td>\n",
       "      <td>0.0</td>\n",
       "      <td>-0.068770</td>\n",
       "      <td>-0.763846</td>\n",
       "      <td>-0.015731</td>\n",
       "      <td>1.075479</td>\n",
       "      <td>-0.000828</td>\n",
       "      <td>-0.011487</td>\n",
       "      <td>0.000320</td>\n",
       "      <td>{}</td>\n",
       "    </tr>\n",
       "    <tr>\n",
       "      <th>4</th>\n",
       "      <td>0</td>\n",
       "      <td>4</td>\n",
       "      <td>0.0</td>\n",
       "      <td>-0.084047</td>\n",
       "      <td>-0.568520</td>\n",
       "      <td>0.005778</td>\n",
       "      <td>0.777901</td>\n",
       "      <td>0.003015</td>\n",
       "      <td>-0.015258</td>\n",
       "      <td>0.004541</td>\n",
       "      <td>{}</td>\n",
       "    </tr>\n",
       "    <tr>\n",
       "      <th>...</th>\n",
       "      <td>...</td>\n",
       "      <td>...</td>\n",
       "      <td>...</td>\n",
       "      <td>...</td>\n",
       "      <td>...</td>\n",
       "      <td>...</td>\n",
       "      <td>...</td>\n",
       "      <td>...</td>\n",
       "      <td>...</td>\n",
       "      <td>...</td>\n",
       "      <td>...</td>\n",
       "    </tr>\n",
       "    <tr>\n",
       "      <th>9995</th>\n",
       "      <td>19</td>\n",
       "      <td>495</td>\n",
       "      <td>0.0</td>\n",
       "      <td>-0.042201</td>\n",
       "      <td>0.003070</td>\n",
       "      <td>0.010334</td>\n",
       "      <td>-0.045856</td>\n",
       "      <td>0.004243</td>\n",
       "      <td>0.009259</td>\n",
       "      <td>0.003317</td>\n",
       "      <td>{}</td>\n",
       "    </tr>\n",
       "    <tr>\n",
       "      <th>9996</th>\n",
       "      <td>19</td>\n",
       "      <td>496</td>\n",
       "      <td>0.0</td>\n",
       "      <td>-0.042139</td>\n",
       "      <td>0.198042</td>\n",
       "      <td>0.009417</td>\n",
       "      <td>-0.335261</td>\n",
       "      <td>0.002007</td>\n",
       "      <td>0.010405</td>\n",
       "      <td>0.000967</td>\n",
       "      <td>{}</td>\n",
       "    </tr>\n",
       "    <tr>\n",
       "      <th>9997</th>\n",
       "      <td>19</td>\n",
       "      <td>497</td>\n",
       "      <td>0.0</td>\n",
       "      <td>-0.038179</td>\n",
       "      <td>0.002787</td>\n",
       "      <td>0.002712</td>\n",
       "      <td>-0.039623</td>\n",
       "      <td>-0.000747</td>\n",
       "      <td>0.011941</td>\n",
       "      <td>-0.001941</td>\n",
       "      <td>{}</td>\n",
       "    </tr>\n",
       "    <tr>\n",
       "      <th>9998</th>\n",
       "      <td>19</td>\n",
       "      <td>498</td>\n",
       "      <td>0.0</td>\n",
       "      <td>-0.038123</td>\n",
       "      <td>-0.192374</td>\n",
       "      <td>0.001919</td>\n",
       "      <td>0.253914</td>\n",
       "      <td>-0.004088</td>\n",
       "      <td>0.013905</td>\n",
       "      <td>-0.005478</td>\n",
       "      <td>{}</td>\n",
       "    </tr>\n",
       "    <tr>\n",
       "      <th>9999</th>\n",
       "      <td>19</td>\n",
       "      <td>499</td>\n",
       "      <td>0.0</td>\n",
       "      <td>-0.041970</td>\n",
       "      <td>-0.387523</td>\n",
       "      <td>0.006997</td>\n",
       "      <td>0.547201</td>\n",
       "      <td>-0.001424</td>\n",
       "      <td>0.011576</td>\n",
       "      <td>-0.002582</td>\n",
       "      <td>{}</td>\n",
       "    </tr>\n",
       "  </tbody>\n",
       "</table>\n",
       "<p>10000 rows × 11 columns</p>\n",
       "</div>"
      ],
      "text/plain": [
       "      ep    t  cart_pos_setpoint  cart_pos  cart_vel  pole_ang  pole_vel  \\\n",
       "0      0    0                0.0 -0.046289 -0.180237 -0.046584  0.236064   \n",
       "1      0    1                0.0 -0.049893 -0.374663 -0.041863  0.513696   \n",
       "2      0    2                0.0 -0.057387 -0.569171 -0.031589  0.792899   \n",
       "3      0    3                0.0 -0.068770 -0.763846 -0.015731  1.075479   \n",
       "4      0    4                0.0 -0.084047 -0.568520  0.005778  0.777901   \n",
       "...   ..  ...                ...       ...       ...       ...       ...   \n",
       "9995  19  495                0.0 -0.042201  0.003070  0.010334 -0.045856   \n",
       "9996  19  496                0.0 -0.042139  0.198042  0.009417 -0.335261   \n",
       "9997  19  497                0.0 -0.038179  0.002787  0.002712 -0.039623   \n",
       "9998  19  498                0.0 -0.038123 -0.192374  0.001919  0.253914   \n",
       "9999  19  499                0.0 -0.041970 -0.387523  0.006997  0.547201   \n",
       "\n",
       "      agent_pid_total  agent_pid_pos  agent_pid_ang env_info  \n",
       "0           -0.030747      -0.028409      -0.027906       {}  \n",
       "1           -0.006542      -0.005415      -0.006000       {}  \n",
       "2           -0.003990      -0.008219      -0.003168       {}  \n",
       "3           -0.000828      -0.011487       0.000320       {}  \n",
       "4            0.003015      -0.015258       0.004541       {}  \n",
       "...               ...            ...            ...      ...  \n",
       "9995         0.004243       0.009259       0.003317       {}  \n",
       "9996         0.002007       0.010405       0.000967       {}  \n",
       "9997        -0.000747       0.011941      -0.001941       {}  \n",
       "9998        -0.004088       0.013905      -0.005478       {}  \n",
       "9999        -0.001424       0.011576      -0.002582       {}  \n",
       "\n",
       "[10000 rows x 11 columns]"
      ]
     },
     "execution_count": 5,
     "metadata": {},
     "output_type": "execute_result"
    }
   ],
   "source": [
    "agent = PidAgent(0.1, 0.01, 0.5)\n",
    "df = cartpole_util.execute_cartpole(agent)\n",
    "df"
   ]
  },
  {
   "cell_type": "code",
   "execution_count": 6,
   "metadata": {},
   "outputs": [
    {
     "data": {
      "application/vnd.plotly.v1+json": {
       "config": {
        "plotlyServerURL": "https://plot.ly"
       },
       "data": [],
       "layout": {
        "height": 300,
        "margin": {
         "b": 5,
         "l": 5,
         "r": 5,
         "t": 5
        },
        "shapes": [
         {
          "fillcolor": "black",
          "type": "rect",
          "x0": -0.2762796822935343,
          "x1": 0.22372031770646572,
          "y0": 0,
          "y1": 0.2
         },
         {
          "line": {
           "color": "brown",
           "width": 3
          },
          "type": "line",
          "x0": -0.02627968229353428,
          "x1": -0.029292199462086832,
          "y0": 0.2,
          "y1": 0.6999909246579474
         }
        ],
        "template": {
         "data": {
          "scatter": [
           {
            "type": "scatter"
           }
          ]
         }
        },
        "xaxis": {
         "fixedrange": true,
         "range": [
          -5,
          5
         ]
        },
        "yaxis": {
         "fixedrange": true,
         "range": [
          -0.5,
          2
         ]
        }
       }
      }
     },
     "metadata": {},
     "output_type": "display_data"
    },
    {
     "data": {
      "application/vnd.jupyter.widget-view+json": {
       "model_id": "af5a2edc796f4f28b23c422befff6f54",
       "version_major": 2,
       "version_minor": 0
      },
      "text/plain": [
       "interactive(children=(IntSlider(value=10, description='ep', max=20), IntSlider(value=250, description='t', max…"
      ]
     },
     "metadata": {},
     "output_type": "display_data"
    },
    {
     "data": {
      "application/vnd.plotly.v1+json": {
       "config": {
        "plotlyServerURL": "https://plot.ly"
       },
       "data": [],
       "layout": {
        "height": 300,
        "margin": {
         "b": 5,
         "l": 5,
         "r": 5,
         "t": 5
        },
        "shapes": [
         {
          "fillcolor": "black",
          "type": "rect",
          "x0": -0.2893293760716915,
          "x1": 0.2106706239283085,
          "y0": 0,
          "y1": 0.2
         },
         {
          "line": {
           "color": "brown",
           "width": 3
          },
          "type": "line",
          "x0": -0.03932937607169151,
          "x1": -0.03238616895115471,
          "y0": 0.2,
          "y1": 0.699951789550634
         }
        ],
        "template": {
         "data": {
          "scatter": [
           {
            "type": "scatter"
           }
          ]
         }
        },
        "xaxis": {
         "fixedrange": true,
         "range": [
          -5,
          5
         ]
        },
        "yaxis": {
         "fixedrange": true,
         "range": [
          -0.5,
          2
         ]
        }
       }
      }
     },
     "metadata": {},
     "output_type": "display_data"
    },
    {
     "data": {
      "application/vnd.plotly.v1+json": {
       "config": {
        "plotlyServerURL": "https://plot.ly"
       },
       "data": [],
       "layout": {
        "height": 300,
        "margin": {
         "b": 5,
         "l": 5,
         "r": 5,
         "t": 5
        },
        "shapes": [
         {
          "fillcolor": "black",
          "type": "rect",
          "x0": -0.27119745686650276,
          "x1": 0.22880254313349724,
          "y0": 0,
          "y1": 0.2
         },
         {
          "line": {
           "color": "brown",
           "width": 3
          },
          "type": "line",
          "x0": -0.021197456866502762,
          "x1": -0.027295775380106465,
          "y0": 0.2,
          "y1": 0.6999628091281457
         }
        ],
        "template": {
         "data": {
          "scatter": [
           {
            "type": "scatter"
           }
          ]
         }
        },
        "xaxis": {
         "fixedrange": true,
         "range": [
          -5,
          5
         ]
        },
        "yaxis": {
         "fixedrange": true,
         "range": [
          -0.5,
          2
         ]
        }
       }
      }
     },
     "metadata": {},
     "output_type": "display_data"
    },
    {
     "data": {
      "application/vnd.plotly.v1+json": {
       "config": {
        "plotlyServerURL": "https://plot.ly"
       },
       "data": [],
       "layout": {
        "height": 300,
        "margin": {
         "b": 5,
         "l": 5,
         "r": 5,
         "t": 5
        },
        "shapes": [
         {
          "fillcolor": "black",
          "type": "rect",
          "x0": -0.28426191955804825,
          "x1": 0.21573808044195175,
          "y0": 0,
          "y1": 0.2
         },
         {
          "line": {
           "color": "brown",
           "width": 3
          },
          "type": "line",
          "x0": -0.03426191955804825,
          "x1": -0.030241089904469942,
          "y0": 0.2,
          "y1": 0.6999838326675143
         }
        ],
        "template": {
         "data": {
          "scatter": [
           {
            "type": "scatter"
           }
          ]
         }
        },
        "xaxis": {
         "fixedrange": true,
         "range": [
          -5,
          5
         ]
        },
        "yaxis": {
         "fixedrange": true,
         "range": [
          -0.5,
          2
         ]
        }
       }
      }
     },
     "metadata": {},
     "output_type": "display_data"
    },
    {
     "data": {
      "application/vnd.plotly.v1+json": {
       "config": {
        "plotlyServerURL": "https://plot.ly"
       },
       "data": [],
       "layout": {
        "height": 300,
        "margin": {
         "b": 5,
         "l": 5,
         "r": 5,
         "t": 5
        },
        "shapes": [
         {
          "fillcolor": "black",
          "type": "rect",
          "x0": -0.2661175224930048,
          "x1": 0.2338824775069952,
          "y0": 0,
          "y1": 0.2
         },
         {
          "line": {
           "color": "brown",
           "width": 3
          },
          "type": "line",
          "x0": -0.0161175224930048,
          "x1": -0.025275158859002916,
          "y0": 0.2,
          "y1": 0.6999161306621223
         }
        ],
        "template": {
         "data": {
          "scatter": [
           {
            "type": "scatter"
           }
          ]
         }
        },
        "xaxis": {
         "fixedrange": true,
         "range": [
          -5,
          5
         ]
        },
        "yaxis": {
         "fixedrange": true,
         "range": [
          -0.5,
          2
         ]
        }
       }
      }
     },
     "metadata": {},
     "output_type": "display_data"
    },
    {
     "data": {
      "application/vnd.plotly.v1+json": {
       "config": {
        "plotlyServerURL": "https://plot.ly"
       },
       "data": [],
       "layout": {
        "height": 300,
        "margin": {
         "b": 5,
         "l": 5,
         "r": 5,
         "t": 5
        },
        "shapes": [
         {
          "fillcolor": "black",
          "type": "rect",
          "x0": -0.27914164029061794,
          "x1": 0.22085835970938206,
          "y0": 0,
          "y1": 0.2
         },
         {
          "line": {
           "color": "brown",
           "width": 3
          },
          "type": "line",
          "x0": -0.029141640290617943,
          "x1": -0.02862458848296563,
          "y0": 0.2,
          "y1": 0.6999997326573568
         }
        ],
        "template": {
         "data": {
          "scatter": [
           {
            "type": "scatter"
           }
          ]
         }
        },
        "xaxis": {
         "fixedrange": true,
         "range": [
          -5,
          5
         ]
        },
        "yaxis": {
         "fixedrange": true,
         "range": [
          -0.5,
          2
         ]
        }
       }
      }
     },
     "metadata": {},
     "output_type": "display_data"
    },
    {
     "data": {
      "application/vnd.plotly.v1+json": {
       "config": {
        "plotlyServerURL": "https://plot.ly"
       },
       "data": [],
       "layout": {
        "height": 300,
        "margin": {
         "b": 5,
         "l": 5,
         "r": 5,
         "t": 5
        },
        "shapes": [
         {
          "fillcolor": "black",
          "type": "rect",
          "x0": -0.28434381633996964,
          "x1": 0.21565618366003036,
          "y0": 0,
          "y1": 0.2
         },
         {
          "line": {
           "color": "brown",
           "width": 3
          },
          "type": "line",
          "x0": -0.034343816339969635,
          "x1": -0.030194784634201725,
          "y0": 0.2,
          "y1": 0.6999827852395566
         }
        ],
        "template": {
         "data": {
          "scatter": [
           {
            "type": "scatter"
           }
          ]
         }
        },
        "xaxis": {
         "fixedrange": true,
         "range": [
          -5,
          5
         ]
        },
        "yaxis": {
         "fixedrange": true,
         "range": [
          -0.5,
          2
         ]
        }
       }
      }
     },
     "metadata": {},
     "output_type": "display_data"
    },
    {
     "data": {
      "application/vnd.plotly.v1+json": {
       "config": {
        "plotlyServerURL": "https://plot.ly"
       },
       "data": [],
       "layout": {
        "height": 300,
        "margin": {
         "b": 5,
         "l": 5,
         "r": 5,
         "t": 5
        },
        "shapes": [
         {
          "fillcolor": "black",
          "type": "rect",
          "x0": -0.29480070620775223,
          "x1": 0.20519929379224777,
          "y0": 0,
          "y1": 0.2
         },
         {
          "line": {
           "color": "brown",
           "width": 3
          },
          "type": "line",
          "x0": -0.04480070620775223,
          "x1": -0.032809766447588165,
          "y0": 0.2,
          "y1": 0.6998561966842745
         }
        ],
        "template": {
         "data": {
          "scatter": [
           {
            "type": "scatter"
           }
          ]
         }
        },
        "xaxis": {
         "fixedrange": true,
         "range": [
          -5,
          5
         ]
        },
        "yaxis": {
         "fixedrange": true,
         "range": [
          -0.5,
          2
         ]
        }
       }
      }
     },
     "metadata": {},
     "output_type": "display_data"
    },
    {
     "data": {
      "application/vnd.plotly.v1+json": {
       "config": {
        "plotlyServerURL": "https://plot.ly"
       },
       "data": [],
       "layout": {
        "height": 300,
        "margin": {
         "b": 5,
         "l": 5,
         "r": 5,
         "t": 5
        },
        "shapes": [
         {
          "fillcolor": "black",
          "type": "rect",
          "x0": -0.27671901881694794,
          "x1": 0.22328098118305206,
          "y0": 0,
          "y1": 0.2
         },
         {
          "line": {
           "color": "brown",
           "width": 3
          },
          "type": "line",
          "x0": -0.026719018816947937,
          "x1": -0.02721677555164362,
          "y0": 0.2,
          "y1": 0.6999997522381717
         }
        ],
        "template": {
         "data": {
          "scatter": [
           {
            "type": "scatter"
           }
          ]
         }
        },
        "xaxis": {
         "fixedrange": true,
         "range": [
          -5,
          5
         ]
        },
        "yaxis": {
         "fixedrange": true,
         "range": [
          -0.5,
          2
         ]
        }
       }
      }
     },
     "metadata": {},
     "output_type": "display_data"
    },
    {
     "data": {
      "application/vnd.plotly.v1+json": {
       "config": {
        "plotlyServerURL": "https://plot.ly"
       },
       "data": [],
       "layout": {
        "height": 300,
        "margin": {
         "b": 5,
         "l": 5,
         "r": 5,
         "t": 5
        },
        "shapes": [
         {
          "fillcolor": "black",
          "type": "rect",
          "x0": -0.2617380227893591,
          "x1": 0.2382619772106409,
          "y0": 0,
          "y1": 0.2
         },
         {
          "line": {
           "color": "brown",
           "width": 3
          },
          "type": "line",
          "x0": -0.011738022789359093,
          "x1": -0.01778669522823724,
          "y0": 0.2,
          "y1": 0.6999634122230618
         }
        ],
        "template": {
         "data": {
          "scatter": [
           {
            "type": "scatter"
           }
          ]
         }
        },
        "xaxis": {
         "fixedrange": true,
         "range": [
          -5,
          5
         ]
        },
        "yaxis": {
         "fixedrange": true,
         "range": [
          -0.5,
          2
         ]
        }
       }
      }
     },
     "metadata": {},
     "output_type": "display_data"
    },
    {
     "data": {
      "application/vnd.plotly.v1+json": {
       "config": {
        "plotlyServerURL": "https://plot.ly"
       },
       "data": [],
       "layout": {
        "height": 300,
        "margin": {
         "b": 5,
         "l": 5,
         "r": 5,
         "t": 5
        },
        "shapes": [
         {
          "fillcolor": "black",
          "type": "rect",
          "x0": -0.2569496869109571,
          "x1": 0.2430503130890429,
          "y0": 0,
          "y1": 0.2
         },
         {
          "line": {
           "color": "brown",
           "width": 3
          },
          "type": "line",
          "x0": -0.006949686910957098,
          "x1": -0.012840952842291888,
          "y0": 0.2,
          "y1": 0.6999652917810659
         }
        ],
        "template": {
         "data": {
          "scatter": [
           {
            "type": "scatter"
           }
          ]
         }
        },
        "xaxis": {
         "fixedrange": true,
         "range": [
          -5,
          5
         ]
        },
        "yaxis": {
         "fixedrange": true,
         "range": [
          -0.5,
          2
         ]
        }
       }
      }
     },
     "metadata": {},
     "output_type": "display_data"
    },
    {
     "data": {
      "application/vnd.plotly.v1+json": {
       "config": {
        "plotlyServerURL": "https://plot.ly"
       },
       "data": [],
       "layout": {
        "height": 300,
        "margin": {
         "b": 5,
         "l": 5,
         "r": 5,
         "t": 5
        },
        "shapes": [
         {
          "fillcolor": "black",
          "type": "rect",
          "x0": -0.2684973031282425,
          "x1": 0.2315026968717575,
          "y0": 0,
          "y1": 0.2
         },
         {
          "line": {
           "color": "brown",
           "width": 3
          },
          "type": "line",
          "x0": -0.018497303128242493,
          "x1": -0.011524357101316217,
          "y0": 0.2,
          "y1": 0.6999513756593791
         }
        ],
        "template": {
         "data": {
          "scatter": [
           {
            "type": "scatter"
           }
          ]
         }
        },
        "xaxis": {
         "fixedrange": true,
         "range": [
          -5,
          5
         ]
        },
        "yaxis": {
         "fixedrange": true,
         "range": [
          -0.5,
          2
         ]
        }
       }
      }
     },
     "metadata": {},
     "output_type": "display_data"
    },
    {
     "data": {
      "application/vnd.plotly.v1+json": {
       "config": {
        "plotlyServerURL": "https://plot.ly"
       },
       "data": [],
       "layout": {
        "height": 300,
        "margin": {
         "b": 5,
         "l": 5,
         "r": 5,
         "t": 5
        },
        "shapes": [
         {
          "fillcolor": "black",
          "type": "rect",
          "x0": -0.2536221749614924,
          "x1": 0.24637782503850758,
          "y0": 0,
          "y1": 0.2
         },
         {
          "line": {
           "color": "brown",
           "width": 3
          },
          "type": "line",
          "x0": -0.0036221749614924192,
          "x1": -0.0010331803210557994,
          "y0": 0.2,
          "y1": 0.6999932970618223
         }
        ],
        "template": {
         "data": {
          "scatter": [
           {
            "type": "scatter"
           }
          ]
         }
        },
        "xaxis": {
         "fixedrange": true,
         "range": [
          -5,
          5
         ]
        },
        "yaxis": {
         "fixedrange": true,
         "range": [
          -0.5,
          2
         ]
        }
       }
      }
     },
     "metadata": {},
     "output_type": "display_data"
    },
    {
     "data": {
      "application/vnd.plotly.v1+json": {
       "config": {
        "plotlyServerURL": "https://plot.ly"
       },
       "data": [],
       "layout": {
        "height": 300,
        "margin": {
         "b": 5,
         "l": 5,
         "r": 5,
         "t": 5
        },
        "shapes": [
         {
          "fillcolor": "black",
          "type": "rect",
          "x0": -0.24899373785592616,
          "x1": 0.25100626214407384,
          "y0": 0,
          "y1": 0.2
         },
         {
          "line": {
           "color": "brown",
           "width": 3
          },
          "type": "line",
          "x0": 0.001006262144073844,
          "x1": 0.0055159503552748125,
          "y0": 0.2,
          "y1": 0.6999796622986156
         }
        ],
        "template": {
         "data": {
          "scatter": [
           {
            "type": "scatter"
           }
          ]
         }
        },
        "xaxis": {
         "fixedrange": true,
         "range": [
          -5,
          5
         ]
        },
        "yaxis": {
         "fixedrange": true,
         "range": [
          -0.5,
          2
         ]
        }
       }
      }
     },
     "metadata": {},
     "output_type": "display_data"
    },
    {
     "data": {
      "application/vnd.plotly.v1+json": {
       "config": {
        "plotlyServerURL": "https://plot.ly"
       },
       "data": [],
       "layout": {
        "height": 300,
        "margin": {
         "b": 5,
         "l": 5,
         "r": 5,
         "t": 5
        },
        "shapes": [
         {
          "fillcolor": "black",
          "type": "rect",
          "x0": -0.23961481638252735,
          "x1": 0.26038518361747265,
          "y0": 0,
          "y1": 0.2
         },
         {
          "line": {
           "color": "brown",
           "width": 3
          },
          "type": "line",
          "x0": 0.010385183617472649,
          "x1": 0.01738844449262747,
          "y0": 0.2,
          "y1": 0.6999509519314016
         }
        ],
        "template": {
         "data": {
          "scatter": [
           {
            "type": "scatter"
           }
          ]
         }
        },
        "xaxis": {
         "fixedrange": true,
         "range": [
          -5,
          5
         ]
        },
        "yaxis": {
         "fixedrange": true,
         "range": [
          -0.5,
          2
         ]
        }
       }
      }
     },
     "metadata": {},
     "output_type": "display_data"
    },
    {
     "data": {
      "application/vnd.plotly.v1+json": {
       "config": {
        "plotlyServerURL": "https://plot.ly"
       },
       "data": [],
       "layout": {
        "height": 300,
        "margin": {
         "b": 5,
         "l": 5,
         "r": 5,
         "t": 5
        },
        "shapes": [
         {
          "fillcolor": "black",
          "type": "rect",
          "x0": -0.222604563459754,
          "x1": 0.277395436540246,
          "y0": 0,
          "y1": 0.2
         },
         {
          "line": {
           "color": "brown",
           "width": 3
          },
          "type": "line",
          "x0": 0.02739543654024601,
          "x1": 0.032180946363799194,
          "y0": 0.2,
          "y1": 0.6999770983712441
         }
        ],
        "template": {
         "data": {
          "scatter": [
           {
            "type": "scatter"
           }
          ]
         }
        },
        "xaxis": {
         "fixedrange": true,
         "range": [
          -5,
          5
         ]
        },
        "yaxis": {
         "fixedrange": true,
         "range": [
          -0.5,
          2
         ]
        }
       }
      }
     },
     "metadata": {},
     "output_type": "display_data"
    },
    {
     "data": {
      "application/vnd.plotly.v1+json": {
       "config": {
        "plotlyServerURL": "https://plot.ly"
       },
       "data": [],
       "layout": {
        "height": 300,
        "margin": {
         "b": 5,
         "l": 5,
         "r": 5,
         "t": 5
        },
        "shapes": [
         {
          "fillcolor": "black",
          "type": "rect",
          "x0": -0.21743648126721382,
          "x1": 0.2825635187327862,
          "y0": 0,
          "y1": 0.2
         },
         {
          "line": {
           "color": "brown",
           "width": 3
          },
          "type": "line",
          "x0": 0.03256351873278618,
          "x1": 0.03331796097812419,
          "y0": 0.2,
          "y1": 0.6999994308165745
         }
        ],
        "template": {
         "data": {
          "scatter": [
           {
            "type": "scatter"
           }
          ]
         }
        },
        "xaxis": {
         "fixedrange": true,
         "range": [
          -5,
          5
         ]
        },
        "yaxis": {
         "fixedrange": true,
         "range": [
          -0.5,
          2
         ]
        }
       }
      }
     },
     "metadata": {},
     "output_type": "display_data"
    },
    {
     "data": {
      "application/vnd.plotly.v1+json": {
       "config": {
        "plotlyServerURL": "https://plot.ly"
       },
       "data": [],
       "layout": {
        "height": 300,
        "margin": {
         "b": 5,
         "l": 5,
         "r": 5,
         "t": 5
        },
        "shapes": [
         {
          "fillcolor": "black",
          "type": "rect",
          "x0": -0.21996706910431385,
          "x1": 0.28003293089568615,
          "y0": 0,
          "y1": 0.2
         },
         {
          "line": {
           "color": "brown",
           "width": 3
          },
          "type": "line",
          "x0": 0.03003293089568615,
          "x1": 0.031437595739086256,
          "y0": 0.2,
          "y1": 0.6999980269127847
         }
        ],
        "template": {
         "data": {
          "scatter": [
           {
            "type": "scatter"
           }
          ]
         }
        },
        "xaxis": {
         "fixedrange": true,
         "range": [
          -5,
          5
         ]
        },
        "yaxis": {
         "fixedrange": true,
         "range": [
          -0.5,
          2
         ]
        }
       }
      }
     },
     "metadata": {},
     "output_type": "display_data"
    },
    {
     "data": {
      "application/vnd.plotly.v1+json": {
       "config": {
        "plotlyServerURL": "https://plot.ly"
       },
       "data": [],
       "layout": {
        "height": 300,
        "margin": {
         "b": 5,
         "l": 5,
         "r": 5,
         "t": 5
        },
        "shapes": [
         {
          "fillcolor": "black",
          "type": "rect",
          "x0": -0.21465861424803734,
          "x1": 0.28534138575196266,
          "y0": 0,
          "y1": 0.2
         },
         {
          "line": {
           "color": "brown",
           "width": 3
          },
          "type": "line",
          "x0": 0.03534138575196266,
          "x1": 0.031166897691148127,
          "y0": 0.2,
          "y1": 0.6999825733457419
         }
        ],
        "template": {
         "data": {
          "scatter": [
           {
            "type": "scatter"
           }
          ]
         }
        },
        "xaxis": {
         "fixedrange": true,
         "range": [
          -5,
          5
         ]
        },
        "yaxis": {
         "fixedrange": true,
         "range": [
          -0.5,
          2
         ]
        }
       }
      }
     },
     "metadata": {},
     "output_type": "display_data"
    }
   ],
   "source": [
    "@interact(ep=(0,20,1), t=(0,500,1))\n",
    "def show_state(ep:int, t:int):\n",
    "    dff = df.loc[(df['ep'] ==ep) & (df['t'] ==t)]\n",
    "\n",
    "    if(dff.shape[0] != 1):\n",
    "        return\n",
    "    \n",
    "    row = dff.iloc[0]\n",
    "    global fig\n",
    "    fig = cartpole_util._render_cartpole_state(row['cart_pos'], row['cart_vel'], row['pole_ang'], row['pole_vel'], 0.0)\n",
    "    fig.show()\n",
    "\n",
    "# interact(\n",
    "#     show_state,\n",
    "#     ep=widgets.IntSlider(min=0, max=20, step=1, value=0), \n",
    "#     t=widgets.IntSlider(min=0, max=500, step=1, value=0)\n",
    "#     )"
   ]
  }
 ],
 "metadata": {
  "kernelspec": {
   "display_name": ".env",
   "language": "python",
   "name": "python3"
  },
  "language_info": {
   "codemirror_mode": {
    "name": "ipython",
    "version": 3
   },
   "file_extension": ".py",
   "mimetype": "text/x-python",
   "name": "python",
   "nbconvert_exporter": "python",
   "pygments_lexer": "ipython3",
   "version": "3.11.1"
  }
 },
 "nbformat": 4,
 "nbformat_minor": 2
}
