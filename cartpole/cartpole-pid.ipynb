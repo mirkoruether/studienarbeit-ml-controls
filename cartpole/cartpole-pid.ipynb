{
 "cells": [
  {
   "cell_type": "code",
   "execution_count": null,
   "metadata": {},
   "outputs": [],
   "source": [
    "# %pip install -U pip wheel\n",
    "# %pip install -r ../requirements.txt"
   ]
  },
  {
   "cell_type": "code",
   "execution_count": null,
   "metadata": {},
   "outputs": [],
   "source": [
    "import numpy as np\n",
    "import pandas as pd\n",
    "import importlib\n",
    "\n",
    "from ipywidgets import interact, interactive, fixed, interact_manual\n",
    "import ipywidgets as widgets\n",
    "from typing import Dict, Tuple"
   ]
  },
  {
   "cell_type": "code",
   "execution_count": null,
   "metadata": {},
   "outputs": [],
   "source": [
    "import cartpole_util\n",
    "_ = importlib.reload(cartpole_util)"
   ]
  },
  {
   "cell_type": "code",
   "execution_count": null,
   "metadata": {},
   "outputs": [],
   "source": [
    "class PidAgent(cartpole_util.CartPoleAgentABC):\n",
    "    def __init__(self, KP: float, KI: float, KD: float) -> None:\n",
    "        self.KP = KP\n",
    "        self.KI = KI\n",
    "        self.KD = KD\n",
    "\n",
    "        self.desired_mask = np.array([0.0, 0, 1, 0])\n",
    "\n",
    "    def reset(self) -> None:\n",
    "        self.integral = 0\n",
    "        self.derivative = 0\n",
    "        self.prev_error = 0\n",
    "\n",
    "    def step(\n",
    "        self, env_state: np.ndarray, env_reward: float, cartpos_setpoint: float\n",
    "    ) -> Tuple[int, Dict[str, object]]:\n",
    "        desired_state = np.array([cartpos_setpoint, 0, 0, 0])\n",
    "\n",
    "        error = env_state - desired_state\n",
    "\n",
    "        self.integral += error\n",
    "        self.derivative = error - self.prev_error\n",
    "        self.prev_error = error\n",
    "\n",
    "        pids = self.KP * error + self.KI * self.integral + self.KD * self.derivative\n",
    "        pid = np.dot(pids, self.desired_mask)\n",
    "\n",
    "        action = 0 if pid <= 0 else 1\n",
    "\n",
    "        return action, {\"pid_total\": pid, \"pid_pos\": pids[0], \"pid_ang\": pids[2]}"
   ]
  },
  {
   "cell_type": "code",
   "execution_count": null,
   "metadata": {},
   "outputs": [],
   "source": [
    "agent = PidAgent(0.1, 0.01, 0.5)\n",
    "df = cartpole_util.execute_cartpole(agent)\n",
    "df"
   ]
  },
  {
   "cell_type": "code",
   "execution_count": null,
   "metadata": {},
   "outputs": [],
   "source": [
    "def show_state(ep: int, t: int):\n",
    "    dff = df.loc[(df[\"ep\"] == ep) & (df[\"t\"] == t)]\n",
    "\n",
    "    if dff.shape[0] != 1:\n",
    "        return\n",
    "\n",
    "    fig, ax = cartpole_util.render_cartpole_state(dff.iloc[0])\n",
    "\n",
    "_ = interact(\n",
    "    show_state,\n",
    "    ep=widgets.IntSlider(min=0, max=20, step=1, value=0),\n",
    "    t=widgets.IntSlider(min=0, max=500, step=1, value=0),\n",
    ")"
   ]
  },
  {
   "cell_type": "code",
   "execution_count": null,
   "metadata": {},
   "outputs": [],
   "source": [
    "EP = 0\n",
    "\n",
    "fig = cartpole_util.lineplot(df, ep=EP)\n",
    "fig.show()"
   ]
  }
 ],
 "metadata": {
  "kernelspec": {
   "display_name": ".env",
   "language": "python",
   "name": "python3"
  },
  "language_info": {
   "codemirror_mode": {
    "name": "ipython",
    "version": 3
   },
   "file_extension": ".py",
   "mimetype": "text/x-python",
   "name": "python",
   "nbconvert_exporter": "python",
   "pygments_lexer": "ipython3",
   "version": "3.11.1"
  }
 },
 "nbformat": 4,
 "nbformat_minor": 2
}
