{
 "cells": [
  {
   "cell_type": "code",
   "execution_count": 3,
   "metadata": {},
   "outputs": [],
   "source": [
    "import numpy as np\n",
    "import pandas as pd\n",
    "import importlib\n",
    "\n",
    "from ipywidgets import interact, interactive, fixed, interact_manual\n",
    "import ipywidgets as widgets\n",
    "from typing import Dict, Tuple"
   ]
  },
  {
   "cell_type": "code",
   "execution_count": 4,
   "metadata": {},
   "outputs": [],
   "source": [
    "import cpagent\n",
    "import cprender\n",
    "import cartpole_qtable\n",
    "\n",
    "_ = importlib.reload(cpagent)\n",
    "_ = importlib.reload(cprender)\n",
    "_ = importlib.reload(cartpole_qtable)"
   ]
  },
  {
   "cell_type": "code",
   "execution_count": 5,
   "metadata": {},
   "outputs": [],
   "source": [
    "agent = cartpole_qtable.QTableAgent()"
   ]
  },
  {
   "cell_type": "code",
   "execution_count": 6,
   "metadata": {},
   "outputs": [
    {
     "data": {
      "text/html": [
       "<div>\n",
       "<style scoped>\n",
       "    .dataframe tbody tr th:only-of-type {\n",
       "        vertical-align: middle;\n",
       "    }\n",
       "\n",
       "    .dataframe tbody tr th {\n",
       "        vertical-align: top;\n",
       "    }\n",
       "\n",
       "    .dataframe thead th {\n",
       "        text-align: right;\n",
       "    }\n",
       "</style>\n",
       "<table border=\"1\" class=\"dataframe\">\n",
       "  <thead>\n",
       "    <tr style=\"text-align: right;\">\n",
       "      <th></th>\n",
       "      <th>ep</th>\n",
       "      <th>t</th>\n",
       "      <th>cart_pos</th>\n",
       "      <th>cart_vel</th>\n",
       "      <th>pole_ang</th>\n",
       "      <th>pole_vel</th>\n",
       "      <th>pos_deviation</th>\n",
       "      <th>reward</th>\n",
       "    </tr>\n",
       "  </thead>\n",
       "  <tbody>\n",
       "    <tr>\n",
       "      <th>0</th>\n",
       "      <td>0</td>\n",
       "      <td>0</td>\n",
       "      <td>0.031571</td>\n",
       "      <td>0.042555</td>\n",
       "      <td>0.039733</td>\n",
       "      <td>0.005655</td>\n",
       "      <td>0.031571</td>\n",
       "      <td>NaN</td>\n",
       "    </tr>\n",
       "    <tr>\n",
       "      <th>1</th>\n",
       "      <td>0</td>\n",
       "      <td>1</td>\n",
       "      <td>0.032422</td>\n",
       "      <td>0.237085</td>\n",
       "      <td>0.039846</td>\n",
       "      <td>-0.274232</td>\n",
       "      <td>0.032422</td>\n",
       "      <td>1.0</td>\n",
       "    </tr>\n",
       "    <tr>\n",
       "      <th>2</th>\n",
       "      <td>0</td>\n",
       "      <td>2</td>\n",
       "      <td>0.037164</td>\n",
       "      <td>0.431617</td>\n",
       "      <td>0.034362</td>\n",
       "      <td>-0.554086</td>\n",
       "      <td>0.037164</td>\n",
       "      <td>1.0</td>\n",
       "    </tr>\n",
       "    <tr>\n",
       "      <th>3</th>\n",
       "      <td>0</td>\n",
       "      <td>3</td>\n",
       "      <td>0.045796</td>\n",
       "      <td>0.626240</td>\n",
       "      <td>0.023280</td>\n",
       "      <td>-0.835748</td>\n",
       "      <td>0.045796</td>\n",
       "      <td>1.0</td>\n",
       "    </tr>\n",
       "    <tr>\n",
       "      <th>4</th>\n",
       "      <td>0</td>\n",
       "      <td>4</td>\n",
       "      <td>0.058321</td>\n",
       "      <td>0.821036</td>\n",
       "      <td>0.006565</td>\n",
       "      <td>-1.121019</td>\n",
       "      <td>0.058321</td>\n",
       "      <td>1.0</td>\n",
       "    </tr>\n",
       "    <tr>\n",
       "      <th>...</th>\n",
       "      <td>...</td>\n",
       "      <td>...</td>\n",
       "      <td>...</td>\n",
       "      <td>...</td>\n",
       "      <td>...</td>\n",
       "      <td>...</td>\n",
       "      <td>...</td>\n",
       "      <td>...</td>\n",
       "    </tr>\n",
       "    <tr>\n",
       "      <th>27427</th>\n",
       "      <td>199</td>\n",
       "      <td>336</td>\n",
       "      <td>-2.326343</td>\n",
       "      <td>-0.704495</td>\n",
       "      <td>-0.039391</td>\n",
       "      <td>-0.356971</td>\n",
       "      <td>-2.326343</td>\n",
       "      <td>1.0</td>\n",
       "    </tr>\n",
       "    <tr>\n",
       "      <th>27428</th>\n",
       "      <td>199</td>\n",
       "      <td>337</td>\n",
       "      <td>-2.340433</td>\n",
       "      <td>-0.899035</td>\n",
       "      <td>-0.046531</td>\n",
       "      <td>-0.076964</td>\n",
       "      <td>-2.340433</td>\n",
       "      <td>1.0</td>\n",
       "    </tr>\n",
       "    <tr>\n",
       "      <th>27429</th>\n",
       "      <td>199</td>\n",
       "      <td>338</td>\n",
       "      <td>-2.358414</td>\n",
       "      <td>-1.093460</td>\n",
       "      <td>-0.048070</td>\n",
       "      <td>0.200682</td>\n",
       "      <td>-2.358414</td>\n",
       "      <td>1.0</td>\n",
       "    </tr>\n",
       "    <tr>\n",
       "      <th>27430</th>\n",
       "      <td>199</td>\n",
       "      <td>339</td>\n",
       "      <td>-2.380283</td>\n",
       "      <td>-1.287863</td>\n",
       "      <td>-0.044057</td>\n",
       "      <td>0.477822</td>\n",
       "      <td>-2.380283</td>\n",
       "      <td>1.0</td>\n",
       "    </tr>\n",
       "    <tr>\n",
       "      <th>27431</th>\n",
       "      <td>199</td>\n",
       "      <td>340</td>\n",
       "      <td>-2.406040</td>\n",
       "      <td>-1.092148</td>\n",
       "      <td>-0.034500</td>\n",
       "      <td>0.171586</td>\n",
       "      <td>-2.406040</td>\n",
       "      <td>1.0</td>\n",
       "    </tr>\n",
       "  </tbody>\n",
       "</table>\n",
       "<p>27432 rows × 8 columns</p>\n",
       "</div>"
      ],
      "text/plain": [
       "        ep    t  cart_pos  cart_vel  pole_ang  pole_vel  pos_deviation  reward\n",
       "0        0    0  0.031571  0.042555  0.039733  0.005655       0.031571     NaN\n",
       "1        0    1  0.032422  0.237085  0.039846 -0.274232       0.032422     1.0\n",
       "2        0    2  0.037164  0.431617  0.034362 -0.554086       0.037164     1.0\n",
       "3        0    3  0.045796  0.626240  0.023280 -0.835748       0.045796     1.0\n",
       "4        0    4  0.058321  0.821036  0.006565 -1.121019       0.058321     1.0\n",
       "...    ...  ...       ...       ...       ...       ...            ...     ...\n",
       "27427  199  336 -2.326343 -0.704495 -0.039391 -0.356971      -2.326343     1.0\n",
       "27428  199  337 -2.340433 -0.899035 -0.046531 -0.076964      -2.340433     1.0\n",
       "27429  199  338 -2.358414 -1.093460 -0.048070  0.200682      -2.358414     1.0\n",
       "27430  199  339 -2.380283 -1.287863 -0.044057  0.477822      -2.380283     1.0\n",
       "27431  199  340 -2.406040 -1.092148 -0.034500  0.171586      -2.406040     1.0\n",
       "\n",
       "[27432 rows x 8 columns]"
      ]
     },
     "execution_count": 6,
     "metadata": {},
     "output_type": "execute_result"
    }
   ],
   "source": [
    "for epsilon in [0.9, 0.7, 0.5, 0.3, 0.2, 0.15, 0.1, 0.1, 0.05, 0.05, 0.05, 0.00]:\n",
    "    agent.epsilon = epsilon\n",
    "    df = cpagent.execute_cartpole(agent, num_episodes=200)\n",
    "df"
   ]
  },
  {
   "cell_type": "code",
   "execution_count": 7,
   "metadata": {},
   "outputs": [],
   "source": [
    "EPSILON = 0.0\n",
    "agent.epsilon = EPSILON\n",
    "df = cpagent.execute_cartpole(agent, num_episodes=300)"
   ]
  },
  {
   "cell_type": "code",
   "execution_count": 8,
   "metadata": {},
   "outputs": [
    {
     "data": {
      "application/vnd.jupyter.widget-view+json": {
       "model_id": "d52288b5ecc8420ca4abedbc5c9910a6",
       "version_major": 2,
       "version_minor": 0
      },
      "text/plain": [
       "interactive(children=(IntSlider(value=0, description='ep', max=20), IntSlider(value=0, description='t', max=50…"
      ]
     },
     "metadata": {},
     "output_type": "display_data"
    }
   ],
   "source": [
    "def show_state(ep: int, t: int):\n",
    "    dff = df.loc[(df[\"ep\"] == ep) & (df[\"t\"] == t)]\n",
    "\n",
    "    if dff.shape[0] != 1:\n",
    "        return\n",
    "\n",
    "    fig, ax = cprender.render_cartpole_state(dff.iloc[0])\n",
    "\n",
    "_ = interact(\n",
    "    show_state,\n",
    "    ep=widgets.IntSlider(min=0, max=20, step=1, value=0),\n",
    "    t=widgets.IntSlider(min=0, max=500, step=1, value=0),\n",
    ")"
   ]
  },
  {
   "cell_type": "code",
   "execution_count": 10,
   "metadata": {},
   "outputs": [
    {
     "data": {
      "application/vnd.plotly.v1+json": {
       "config": {
        "plotlyServerURL": "https://plot.ly"
       },
       "data": [
        {
         "name": "cart_pos",
         "showlegend": false,
         "type": "scatter",
         "x": [
          0,
          1,
          2,
          3,
          4,
          5,
          6,
          7,
          8,
          9,
          10,
          11
         ],
         "xaxis": "x",
         "y": [
          -0.02187425270676613,
          -0.022385170683264732,
          -0.01900336891412735,
          -0.01172871794551611,
          -0.000559310894459486,
          0.014508340507745743,
          0.03347896784543991,
          0.056358013302087784,
          0.08315090090036392,
          0.10606162250041962,
          0.1328987032175064,
          0.15587322413921356
         ],
         "yaxis": "y"
        },
        {
         "name": "cart_vel",
         "showlegend": false,
         "type": "scatter",
         "x": [
          0,
          1,
          2,
          3,
          4,
          5,
          6,
          7,
          8,
          9,
          10,
          11
         ],
         "xaxis": "x2",
         "y": [
          -0.025545911863446236,
          0.16909006237983704,
          0.36373260617256165,
          0.5584703683853149,
          0.7533825635910034,
          0.9485313296318054,
          1.1439523696899414,
          1.339644432067871,
          1.1455360651016235,
          1.341854214668274,
          1.1487256288528442,
          0.9563871026039124
         ],
         "yaxis": "y2"
        },
        {
         "name": "pole_ang",
         "showlegend": false,
         "type": "scatter",
         "x": [
          0,
          1,
          2,
          3,
          4,
          5,
          6,
          7,
          8,
          9,
          10,
          11
         ],
         "xaxis": "x3",
         "y": [
          0.03283918648958206,
          0.032590363174676895,
          0.02669866755604744,
          0.015162395313382149,
          -0.0020569574553519487,
          -0.025033853948116302,
          -0.053877294063568115,
          -0.08872871845960617,
          -0.1297590285539627,
          -0.16551002860069275,
          -0.20786190032958984,
          -0.245467871427536
         ],
         "yaxis": "y3"
        },
        {
         "name": "pole_vel",
         "showlegend": false,
         "type": "scatter",
         "x": [
          0,
          1,
          2,
          3,
          4,
          5,
          6,
          7,
          8,
          9,
          10,
          11
         ],
         "xaxis": "x4",
         "y": [
          -0.012441171333193779,
          -0.2945847511291504,
          -0.5768136382102966,
          -0.8609676361083984,
          -1.148844838142395,
          -1.4421720504760742,
          -1.7425709962844849,
          -2.0515153408050537,
          -1.7875502109527588,
          -2.117594003677368,
          -1.8802980184555054,
          -1.65867280960083
         ],
         "yaxis": "y4"
        }
       ],
       "layout": {
        "height": 700,
        "hovermode": "x unified",
        "margin": {
         "b": 10,
         "l": 60,
         "r": 10,
         "t": 10
        },
        "template": {
         "data": {
          "scatter": [
           {
            "type": "scatter"
           }
          ]
         }
        },
        "xaxis": {
         "anchor": "y",
         "domain": [
          0,
          1
         ],
         "matches": "x4",
         "showticklabels": false
        },
        "xaxis2": {
         "anchor": "y2",
         "domain": [
          0,
          1
         ],
         "matches": "x4",
         "showticklabels": false
        },
        "xaxis3": {
         "anchor": "y3",
         "domain": [
          0,
          1
         ],
         "matches": "x4",
         "showticklabels": false
        },
        "xaxis4": {
         "anchor": "y4",
         "domain": [
          0,
          1
         ],
         "rangeslider": {
          "visible": true
         }
        },
        "yaxis": {
         "anchor": "x",
         "domain": [
          0.7649999999999999,
          0.9999999999999999
         ],
         "title": {
          "text": "cart_pos"
         }
        },
        "yaxis2": {
         "anchor": "x2",
         "domain": [
          0.51,
          0.745
         ],
         "title": {
          "text": "cart_vel"
         }
        },
        "yaxis3": {
         "anchor": "x3",
         "domain": [
          0.255,
          0.49
         ],
         "title": {
          "text": "pole_ang"
         }
        },
        "yaxis4": {
         "anchor": "x4",
         "domain": [
          0,
          0.235
         ],
         "title": {
          "text": "pole_vel"
         }
        }
       }
      }
     },
     "metadata": {},
     "output_type": "display_data"
    }
   ],
   "source": [
    "EP = 2\n",
    "\n",
    "fig = cprender.lineplot(df, ep=EP)\n",
    "fig.show()"
   ]
  }
 ],
 "metadata": {
  "kernelspec": {
   "display_name": ".env",
   "language": "python",
   "name": "python3"
  },
  "language_info": {
   "codemirror_mode": {
    "name": "ipython",
    "version": 3
   },
   "file_extension": ".py",
   "mimetype": "text/x-python",
   "name": "python",
   "nbconvert_exporter": "python",
   "pygments_lexer": "ipython3",
   "version": "3.10.11"
  }
 },
 "nbformat": 4,
 "nbformat_minor": 2
}
