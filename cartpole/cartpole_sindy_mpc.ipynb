{
 "cells": [
  {
   "cell_type": "code",
   "execution_count": 25,
   "metadata": {},
   "outputs": [],
   "source": [
    "import numpy as np\n",
    "import pandas as pd\n",
    "import importlib\n",
    "\n",
    "import ipywidgets as widgets\n",
    "\n",
    "import pysindy as ps\n",
    "import do_mpc.model as mpc_model\n",
    "import do_mpc.controller as mpc_contr"
   ]
  },
  {
   "cell_type": "code",
   "execution_count": 3,
   "metadata": {},
   "outputs": [],
   "source": [
    "import cpagent\n",
    "import cprender\n",
    "import cpenvs\n",
    "import cppid\n",
    "\n",
    "_ = importlib.reload(cppid)\n",
    "_ = importlib.reload(cpagent)\n",
    "_ = importlib.reload(cprender)\n",
    "_ = importlib.reload(cpenvs)"
   ]
  },
  {
   "cell_type": "code",
   "execution_count": 4,
   "metadata": {},
   "outputs": [
    {
     "data": {
      "text/html": [
       "<div>\n",
       "<style scoped>\n",
       "    .dataframe tbody tr th:only-of-type {\n",
       "        vertical-align: middle;\n",
       "    }\n",
       "\n",
       "    .dataframe tbody tr th {\n",
       "        vertical-align: top;\n",
       "    }\n",
       "\n",
       "    .dataframe thead th {\n",
       "        text-align: right;\n",
       "    }\n",
       "</style>\n",
       "<table border=\"1\" class=\"dataframe\">\n",
       "  <thead>\n",
       "    <tr style=\"text-align: right;\">\n",
       "      <th></th>\n",
       "      <th>ep</th>\n",
       "      <th>t</th>\n",
       "      <th>cart_pos</th>\n",
       "      <th>cart_vel</th>\n",
       "      <th>pole_ang</th>\n",
       "      <th>pole_vel</th>\n",
       "      <th>pos_deviation</th>\n",
       "      <th>force</th>\n",
       "      <th>reward</th>\n",
       "      <th>cart_pos_setpoint</th>\n",
       "    </tr>\n",
       "  </thead>\n",
       "  <tbody>\n",
       "    <tr>\n",
       "      <th>0</th>\n",
       "      <td>0</td>\n",
       "      <td>0</td>\n",
       "      <td>-0.036138</td>\n",
       "      <td>0.007657</td>\n",
       "      <td>0.002915</td>\n",
       "      <td>-0.031009</td>\n",
       "      <td>-0.036138</td>\n",
       "      <td>0.0</td>\n",
       "      <td>NaN</td>\n",
       "      <td>0.000000</td>\n",
       "    </tr>\n",
       "    <tr>\n",
       "      <th>1</th>\n",
       "      <td>0</td>\n",
       "      <td>1</td>\n",
       "      <td>-0.035985</td>\n",
       "      <td>-0.187507</td>\n",
       "      <td>0.002294</td>\n",
       "      <td>0.262592</td>\n",
       "      <td>-0.035985</td>\n",
       "      <td>-10.0</td>\n",
       "      <td>0.999353</td>\n",
       "      <td>0.000000</td>\n",
       "    </tr>\n",
       "    <tr>\n",
       "      <th>2</th>\n",
       "      <td>0</td>\n",
       "      <td>2</td>\n",
       "      <td>-0.039735</td>\n",
       "      <td>-0.382662</td>\n",
       "      <td>0.007546</td>\n",
       "      <td>0.555998</td>\n",
       "      <td>-0.039735</td>\n",
       "      <td>-10.0</td>\n",
       "      <td>0.999211</td>\n",
       "      <td>0.000000</td>\n",
       "    </tr>\n",
       "    <tr>\n",
       "      <th>3</th>\n",
       "      <td>0</td>\n",
       "      <td>3</td>\n",
       "      <td>-0.047388</td>\n",
       "      <td>-0.187646</td>\n",
       "      <td>0.018666</td>\n",
       "      <td>0.265702</td>\n",
       "      <td>-0.047388</td>\n",
       "      <td>10.0</td>\n",
       "      <td>0.998877</td>\n",
       "      <td>0.000000</td>\n",
       "    </tr>\n",
       "    <tr>\n",
       "      <th>4</th>\n",
       "      <td>0</td>\n",
       "      <td>4</td>\n",
       "      <td>-0.051141</td>\n",
       "      <td>0.007204</td>\n",
       "      <td>0.023980</td>\n",
       "      <td>-0.021035</td>\n",
       "      <td>-0.051141</td>\n",
       "      <td>10.0</td>\n",
       "      <td>0.998692</td>\n",
       "      <td>0.000000</td>\n",
       "    </tr>\n",
       "    <tr>\n",
       "      <th>...</th>\n",
       "      <td>...</td>\n",
       "      <td>...</td>\n",
       "      <td>...</td>\n",
       "      <td>...</td>\n",
       "      <td>...</td>\n",
       "      <td>...</td>\n",
       "      <td>...</td>\n",
       "      <td>...</td>\n",
       "      <td>...</td>\n",
       "      <td>...</td>\n",
       "    </tr>\n",
       "    <tr>\n",
       "      <th>250495</th>\n",
       "      <td>499</td>\n",
       "      <td>496</td>\n",
       "      <td>-0.929140</td>\n",
       "      <td>0.369910</td>\n",
       "      <td>0.011134</td>\n",
       "      <td>-0.543009</td>\n",
       "      <td>-0.019890</td>\n",
       "      <td>10.0</td>\n",
       "      <td>0.999802</td>\n",
       "      <td>-0.909249</td>\n",
       "    </tr>\n",
       "    <tr>\n",
       "      <th>250496</th>\n",
       "      <td>499</td>\n",
       "      <td>497</td>\n",
       "      <td>-0.921741</td>\n",
       "      <td>0.174633</td>\n",
       "      <td>0.000274</td>\n",
       "      <td>-0.246838</td>\n",
       "      <td>-0.012492</td>\n",
       "      <td>-10.0</td>\n",
       "      <td>0.999922</td>\n",
       "      <td>-0.909249</td>\n",
       "    </tr>\n",
       "    <tr>\n",
       "      <th>250497</th>\n",
       "      <td>499</td>\n",
       "      <td>498</td>\n",
       "      <td>-0.918249</td>\n",
       "      <td>-0.020493</td>\n",
       "      <td>-0.004663</td>\n",
       "      <td>0.045931</td>\n",
       "      <td>-0.009000</td>\n",
       "      <td>-10.0</td>\n",
       "      <td>0.999960</td>\n",
       "      <td>-0.909249</td>\n",
       "    </tr>\n",
       "    <tr>\n",
       "      <th>250498</th>\n",
       "      <td>499</td>\n",
       "      <td>499</td>\n",
       "      <td>-0.918659</td>\n",
       "      <td>-0.215548</td>\n",
       "      <td>-0.003744</td>\n",
       "      <td>0.337139</td>\n",
       "      <td>-0.009409</td>\n",
       "      <td>-10.0</td>\n",
       "      <td>0.999956</td>\n",
       "      <td>-0.909249</td>\n",
       "    </tr>\n",
       "    <tr>\n",
       "      <th>250499</th>\n",
       "      <td>499</td>\n",
       "      <td>500</td>\n",
       "      <td>-0.922970</td>\n",
       "      <td>-0.020373</td>\n",
       "      <td>0.002998</td>\n",
       "      <td>0.043278</td>\n",
       "      <td>-0.013720</td>\n",
       "      <td>10.0</td>\n",
       "      <td>0.999906</td>\n",
       "      <td>-0.909249</td>\n",
       "    </tr>\n",
       "  </tbody>\n",
       "</table>\n",
       "<p>250500 rows × 10 columns</p>\n",
       "</div>"
      ],
      "text/plain": [
       "         ep    t  cart_pos  cart_vel  pole_ang  pole_vel  pos_deviation  \\\n",
       "0         0    0 -0.036138  0.007657  0.002915 -0.031009      -0.036138   \n",
       "1         0    1 -0.035985 -0.187507  0.002294  0.262592      -0.035985   \n",
       "2         0    2 -0.039735 -0.382662  0.007546  0.555998      -0.039735   \n",
       "3         0    3 -0.047388 -0.187646  0.018666  0.265702      -0.047388   \n",
       "4         0    4 -0.051141  0.007204  0.023980 -0.021035      -0.051141   \n",
       "...     ...  ...       ...       ...       ...       ...            ...   \n",
       "250495  499  496 -0.929140  0.369910  0.011134 -0.543009      -0.019890   \n",
       "250496  499  497 -0.921741  0.174633  0.000274 -0.246838      -0.012492   \n",
       "250497  499  498 -0.918249 -0.020493 -0.004663  0.045931      -0.009000   \n",
       "250498  499  499 -0.918659 -0.215548 -0.003744  0.337139      -0.009409   \n",
       "250499  499  500 -0.922970 -0.020373  0.002998  0.043278      -0.013720   \n",
       "\n",
       "        force    reward  cart_pos_setpoint  \n",
       "0         0.0       NaN           0.000000  \n",
       "1       -10.0  0.999353           0.000000  \n",
       "2       -10.0  0.999211           0.000000  \n",
       "3        10.0  0.998877           0.000000  \n",
       "4        10.0  0.998692           0.000000  \n",
       "...       ...       ...                ...  \n",
       "250495   10.0  0.999802          -0.909249  \n",
       "250496  -10.0  0.999922          -0.909249  \n",
       "250497  -10.0  0.999960          -0.909249  \n",
       "250498  -10.0  0.999956          -0.909249  \n",
       "250499   10.0  0.999906          -0.909249  \n",
       "\n",
       "[250500 rows x 10 columns]"
      ]
     },
     "execution_count": 4,
     "metadata": {},
     "output_type": "execute_result"
    }
   ],
   "source": [
    "# Baseline agent\n",
    "agent = cppid.PidAgentMoving2(\n",
    "    (0.301, 0.0190, 0.0797),\n",
    "    (0.0659, 0.00, 0.0499),\n",
    "    1.33\n",
    ")\n",
    "df = cpagent.execute_cartpole(agent, env=cpenvs.MovingCartpoleEnv(), num_episodes=500)\n",
    "df"
   ]
  },
  {
   "cell_type": "code",
   "execution_count": 5,
   "metadata": {},
   "outputs": [],
   "source": [
    "trajectories_x = []\n",
    "trajectories_xdot = []\n",
    "trajectories_u = []\n",
    "\n",
    "\n",
    "for ep in range(100):\n",
    "    dff = df.loc[df['ep']==ep]\n",
    "    trajectories_x.append(dff[[\"cart_pos\", \"cart_vel\", \"pole_ang\", \"pole_vel\"]].to_numpy())\n",
    "    #trajectories_x.append(dff[[\"cart_pos\", \"pole_ang\"]].to_numpy())\n",
    "    #trajectories_xdot.append(dff[[\"cart_vel\", \"pole_vel\"]].to_numpy())\n",
    "    trajectories_u.append(dff[[\"force\"]].to_numpy())"
   ]
  },
  {
   "cell_type": "code",
   "execution_count": 6,
   "metadata": {},
   "outputs": [
    {
     "name": "stderr",
     "output_type": "stream",
     "text": [
      "c:\\Source\\studienarbeit-ml-controls\\.env\\lib\\site-packages\\pysindy\\feature_library\\base.py:40: DeprecationWarning: Library ensembling is no longer performed by feature libraries.  Use EnsemblingOptimizer to fit an ensemble model.\n",
      "  warnings.warn(\n",
      "c:\\Source\\studienarbeit-ml-controls\\.env\\lib\\site-packages\\pysindy\\differentiation\\finite_difference.py:199: DeprecationWarning: `np.math` is a deprecated alias for the standard library `math` module (Deprecated Numpy 1.25). Replace usages of `np.math` with `math`\n",
      "  b[self.d] = np.math.factorial(self.d)\n"
     ]
    },
    {
     "data": {
      "text/html": [
       "<style>#sk-container-id-1 {color: black;}#sk-container-id-1 pre{padding: 0;}#sk-container-id-1 div.sk-toggleable {background-color: white;}#sk-container-id-1 label.sk-toggleable__label {cursor: pointer;display: block;width: 100%;margin-bottom: 0;padding: 0.3em;box-sizing: border-box;text-align: center;}#sk-container-id-1 label.sk-toggleable__label-arrow:before {content: \"▸\";float: left;margin-right: 0.25em;color: #696969;}#sk-container-id-1 label.sk-toggleable__label-arrow:hover:before {color: black;}#sk-container-id-1 div.sk-estimator:hover label.sk-toggleable__label-arrow:before {color: black;}#sk-container-id-1 div.sk-toggleable__content {max-height: 0;max-width: 0;overflow: hidden;text-align: left;background-color: #f0f8ff;}#sk-container-id-1 div.sk-toggleable__content pre {margin: 0.2em;color: black;border-radius: 0.25em;background-color: #f0f8ff;}#sk-container-id-1 input.sk-toggleable__control:checked~div.sk-toggleable__content {max-height: 200px;max-width: 100%;overflow: auto;}#sk-container-id-1 input.sk-toggleable__control:checked~label.sk-toggleable__label-arrow:before {content: \"▾\";}#sk-container-id-1 div.sk-estimator input.sk-toggleable__control:checked~label.sk-toggleable__label {background-color: #d4ebff;}#sk-container-id-1 div.sk-label input.sk-toggleable__control:checked~label.sk-toggleable__label {background-color: #d4ebff;}#sk-container-id-1 input.sk-hidden--visually {border: 0;clip: rect(1px 1px 1px 1px);clip: rect(1px, 1px, 1px, 1px);height: 1px;margin: -1px;overflow: hidden;padding: 0;position: absolute;width: 1px;}#sk-container-id-1 div.sk-estimator {font-family: monospace;background-color: #f0f8ff;border: 1px dotted black;border-radius: 0.25em;box-sizing: border-box;margin-bottom: 0.5em;}#sk-container-id-1 div.sk-estimator:hover {background-color: #d4ebff;}#sk-container-id-1 div.sk-parallel-item::after {content: \"\";width: 100%;border-bottom: 1px solid gray;flex-grow: 1;}#sk-container-id-1 div.sk-label:hover label.sk-toggleable__label {background-color: #d4ebff;}#sk-container-id-1 div.sk-serial::before {content: \"\";position: absolute;border-left: 1px solid gray;box-sizing: border-box;top: 0;bottom: 0;left: 50%;z-index: 0;}#sk-container-id-1 div.sk-serial {display: flex;flex-direction: column;align-items: center;background-color: white;padding-right: 0.2em;padding-left: 0.2em;position: relative;}#sk-container-id-1 div.sk-item {position: relative;z-index: 1;}#sk-container-id-1 div.sk-parallel {display: flex;align-items: stretch;justify-content: center;background-color: white;position: relative;}#sk-container-id-1 div.sk-item::before, #sk-container-id-1 div.sk-parallel-item::before {content: \"\";position: absolute;border-left: 1px solid gray;box-sizing: border-box;top: 0;bottom: 0;left: 50%;z-index: -1;}#sk-container-id-1 div.sk-parallel-item {display: flex;flex-direction: column;z-index: 1;position: relative;background-color: white;}#sk-container-id-1 div.sk-parallel-item:first-child::after {align-self: flex-end;width: 50%;}#sk-container-id-1 div.sk-parallel-item:last-child::after {align-self: flex-start;width: 50%;}#sk-container-id-1 div.sk-parallel-item:only-child::after {width: 0;}#sk-container-id-1 div.sk-dashed-wrapped {border: 1px dashed gray;margin: 0 0.4em 0.5em 0.4em;box-sizing: border-box;padding-bottom: 0.4em;background-color: white;}#sk-container-id-1 div.sk-label label {font-family: monospace;font-weight: bold;display: inline-block;line-height: 1.2em;}#sk-container-id-1 div.sk-label-container {text-align: center;}#sk-container-id-1 div.sk-container {/* jupyter's `normalize.less` sets `[hidden] { display: none; }` but bootstrap.min.css set `[hidden] { display: none !important; }` so we also need the `!important` here to be able to override the default hidden behavior on the sphinx rendered scikit-learn.org. See: https://github.com/scikit-learn/scikit-learn/issues/21755 */display: inline-block !important;position: relative;}#sk-container-id-1 div.sk-text-repr-fallback {display: none;}</style><div id=\"sk-container-id-1\" class=\"sk-top-container\"><div class=\"sk-text-repr-fallback\"><pre>SINDy(differentiation_method=FiniteDifference(),\n",
       "      feature_library=PolynomialLibrary(),\n",
       "      feature_names=[&#x27;cart_pos&#x27;, &#x27;cart_vel&#x27;, &#x27;pole_ang&#x27;, &#x27;pole_vel&#x27;, &#x27;force&#x27;],\n",
       "      optimizer=STLSQ(), t_default=0.02)</pre><b>In a Jupyter environment, please rerun this cell to show the HTML representation or trust the notebook. <br />On GitHub, the HTML representation is unable to render, please try loading this page with nbviewer.org.</b></div><div class=\"sk-container\" hidden><div class=\"sk-item sk-dashed-wrapped\"><div class=\"sk-label-container\"><div class=\"sk-label sk-toggleable\"><input class=\"sk-toggleable__control sk-hidden--visually\" id=\"sk-estimator-id-1\" type=\"checkbox\" ><label for=\"sk-estimator-id-1\" class=\"sk-toggleable__label sk-toggleable__label-arrow\">SINDy</label><div class=\"sk-toggleable__content\"><pre>SINDy(differentiation_method=FiniteDifference(),\n",
       "      feature_library=PolynomialLibrary(),\n",
       "      feature_names=[&#x27;cart_pos&#x27;, &#x27;cart_vel&#x27;, &#x27;pole_ang&#x27;, &#x27;pole_vel&#x27;, &#x27;force&#x27;],\n",
       "      optimizer=STLSQ(), t_default=0.02)</pre></div></div></div><div class=\"sk-parallel\"><div class=\"sk-parallel-item\"><div class=\"sk-item\"><div class=\"sk-label-container\"><div class=\"sk-label sk-toggleable\"><input class=\"sk-toggleable__control sk-hidden--visually\" id=\"sk-estimator-id-2\" type=\"checkbox\" ><label for=\"sk-estimator-id-2\" class=\"sk-toggleable__label sk-toggleable__label-arrow\">feature_library: PolynomialLibrary</label><div class=\"sk-toggleable__content\"><pre>PolynomialLibrary()</pre></div></div></div><div class=\"sk-serial\"><div class=\"sk-item\"><div class=\"sk-estimator sk-toggleable\"><input class=\"sk-toggleable__control sk-hidden--visually\" id=\"sk-estimator-id-3\" type=\"checkbox\" ><label for=\"sk-estimator-id-3\" class=\"sk-toggleable__label sk-toggleable__label-arrow\">PolynomialLibrary</label><div class=\"sk-toggleable__content\"><pre>PolynomialLibrary()</pre></div></div></div></div></div></div><div class=\"sk-parallel-item\"><div class=\"sk-item\"><div class=\"sk-label-container\"><div class=\"sk-label sk-toggleable\"><input class=\"sk-toggleable__control sk-hidden--visually\" id=\"sk-estimator-id-4\" type=\"checkbox\" ><label for=\"sk-estimator-id-4\" class=\"sk-toggleable__label sk-toggleable__label-arrow\">optimizer: STLSQ</label><div class=\"sk-toggleable__content\"><pre>STLSQ()</pre></div></div></div><div class=\"sk-serial\"><div class=\"sk-item\"><div class=\"sk-estimator sk-toggleable\"><input class=\"sk-toggleable__control sk-hidden--visually\" id=\"sk-estimator-id-5\" type=\"checkbox\" ><label for=\"sk-estimator-id-5\" class=\"sk-toggleable__label sk-toggleable__label-arrow\">STLSQ</label><div class=\"sk-toggleable__content\"><pre>STLSQ()</pre></div></div></div></div></div></div></div></div></div></div>"
      ],
      "text/plain": [
       "SINDy(differentiation_method=FiniteDifference(),\n",
       "      feature_library=PolynomialLibrary(),\n",
       "      feature_names=['cart_pos', 'cart_vel', 'pole_ang', 'pole_vel', 'force'],\n",
       "      optimizer=STLSQ(), t_default=0.02)"
      ]
     },
     "execution_count": 6,
     "metadata": {},
     "output_type": "execute_result"
    }
   ],
   "source": [
    "mySindy = ps.SINDy(\n",
    "    #feature_names=[\"cart_pos\",  \"pole_ang\", \"force\"],\n",
    "    feature_names=[\"cart_pos\", \"cart_vel\", \"pole_ang\", \"pole_vel\", \"force\"],\n",
    "    t_default = 0.02\n",
    ")\n",
    "\n",
    "mySindy.fit(\n",
    "    multiple_trajectories=True,\n",
    "    x=trajectories_x, \n",
    "    #x_dot=trajectories_xdot,\n",
    "    u=trajectories_u,\n",
    ")"
   ]
  },
  {
   "cell_type": "code",
   "execution_count": 7,
   "metadata": {},
   "outputs": [
    {
     "name": "stdout",
     "output_type": "stream",
     "text": [
      "(cart_pos)' = 0.936 cart_vel\n",
      "(cart_vel)' = -0.183 cart_pos + 3.661 cart_vel + 6.109 pole_ang + 12.237 pole_vel + 0.834 force + 0.758 cart_pos cart_vel + 3.591 cart_pos pole_ang + 0.642 cart_pos pole_vel + -0.090 cart_vel pole_ang + -8.697 pole_ang^2 + -4.126 pole_ang pole_vel + -0.187 pole_vel^2\n",
      "(pole_ang)' = 0.485 pole_ang + 0.846 pole_vel\n",
      "(pole_vel)' = 0.291 cart_pos + -5.487 cart_vel + 5.868 pole_ang + -18.484 pole_vel + -1.255 force + -0.158 cart_pos^2 + -1.769 cart_pos cart_vel + -6.641 cart_pos pole_ang + -1.407 cart_pos pole_vel + 0.275 cart_vel^2 + -2.038 cart_vel pole_ang + 0.369 cart_vel pole_vel + 15.095 pole_ang^2 + 4.147 pole_ang pole_vel + 0.522 pole_vel^2\n"
     ]
    }
   ],
   "source": [
    "mySindy.print()"
   ]
  },
  {
   "cell_type": "code",
   "execution_count": 8,
   "metadata": {},
   "outputs": [
    {
     "data": {
      "text/plain": [
       "['1',\n",
       " 'cart_pos',\n",
       " 'cart_vel',\n",
       " 'pole_ang',\n",
       " 'pole_vel',\n",
       " 'force',\n",
       " 'cart_pos^2',\n",
       " 'cart_pos cart_vel',\n",
       " 'cart_pos pole_ang',\n",
       " 'cart_pos pole_vel',\n",
       " 'cart_pos force',\n",
       " 'cart_vel^2',\n",
       " 'cart_vel pole_ang',\n",
       " 'cart_vel pole_vel',\n",
       " 'cart_vel force',\n",
       " 'pole_ang^2',\n",
       " 'pole_ang pole_vel',\n",
       " 'pole_ang force',\n",
       " 'pole_vel^2',\n",
       " 'pole_vel force',\n",
       " 'force^2']"
      ]
     },
     "execution_count": 8,
     "metadata": {},
     "output_type": "execute_result"
    }
   ],
   "source": [
    "mySindy.get_feature_names()"
   ]
  },
  {
   "cell_type": "code",
   "execution_count": 9,
   "metadata": {},
   "outputs": [
    {
     "data": {
      "text/plain": [
       "array([[  0.        ,   0.        ,   0.93598395,   0.        ,\n",
       "          0.        ,   0.        ,   0.        ,   0.        ,\n",
       "          0.        ,   0.        ,   0.        ,   0.        ,\n",
       "          0.        ,   0.        ,   0.        ,   0.        ,\n",
       "          0.        ,   0.        ,   0.        ,   0.        ,\n",
       "          0.        ],\n",
       "       [  0.        ,  -0.18300184,   3.66145478,   6.10911718,\n",
       "         12.23691456,   0.83426131,   0.        ,   0.75754658,\n",
       "          3.59141184,   0.64181149,   0.        ,   0.        ,\n",
       "         -0.08978934,   0.        ,   0.        ,  -8.69679913,\n",
       "         -4.12617385,   0.        ,  -0.18681686,   0.        ,\n",
       "          0.        ],\n",
       "       [  0.        ,   0.        ,   0.        ,   0.48490049,\n",
       "          0.84550783,   0.        ,   0.        ,   0.        ,\n",
       "          0.        ,   0.        ,   0.        ,   0.        ,\n",
       "          0.        ,   0.        ,   0.        ,   0.        ,\n",
       "          0.        ,   0.        ,   0.        ,   0.        ,\n",
       "          0.        ],\n",
       "       [  0.        ,   0.29052996,  -5.48736685,   5.86841539,\n",
       "        -18.48393381,  -1.25454587,  -0.15816093,  -1.76916704,\n",
       "         -6.64134022,  -1.40707687,   0.        ,   0.27531843,\n",
       "         -2.03808772,   0.36946464,   0.        ,  15.09514254,\n",
       "          4.14738499,   0.        ,   0.52205765,   0.        ,\n",
       "          0.        ]])"
      ]
     },
     "execution_count": 9,
     "metadata": {},
     "output_type": "execute_result"
    }
   ],
   "source": [
    "mySindy.coefficients()"
   ]
  },
  {
   "cell_type": "code",
   "execution_count": 13,
   "metadata": {},
   "outputs": [
    {
     "data": {
      "text/plain": [
       "array([ 0.        , -0.18300184,  3.66145478,  6.10911718, 12.23691456,\n",
       "        0.83426131,  0.        ,  0.75754658,  3.59141184,  0.64181149,\n",
       "        0.        ,  0.        , -0.08978934,  0.        ,  0.        ,\n",
       "       -8.69679913, -4.12617385,  0.        , -0.18681686,  0.        ,\n",
       "        0.        ])"
      ]
     },
     "execution_count": 13,
     "metadata": {},
     "output_type": "execute_result"
    }
   ],
   "source": [
    "mySindy.coefficients()[1, :]"
   ]
  },
  {
   "cell_type": "code",
   "execution_count": 26,
   "metadata": {},
   "outputs": [],
   "source": [
    "myModel = mpc_model.Model(model_type=\"continuous\")\n",
    "cart_pos = myModel.set_variable(var_type='_x', var_name='cart_pos', shape=(1,1))\n",
    "cart_vel = myModel.set_variable(var_type='_x', var_name='cart_vel', shape=(1,1))\n",
    "pole_ang = myModel.set_variable(var_type='_x', var_name='pole_ang', shape=(1,1))\n",
    "pole_vel = myModel.set_variable(var_type='_x', var_name='pole_vel', shape=(1,1))\n",
    "u__force = myModel.set_variable(var_type='_u', var_name='u__force', shape=(1,1))\n",
    "\n",
    "modelvars_x = [cart_pos, cart_vel, pole_ang, pole_vel]\n",
    "modelvars_u = [u__force]\n",
    "modelvars = modelvars_x + modelvars_u"
   ]
  },
  {
   "cell_type": "code",
   "execution_count": 27,
   "metadata": {},
   "outputs": [
    {
     "name": "stdout",
     "output_type": "stream",
     "text": [
      "1.0\n",
      "cart_pos\n",
      "cart_vel\n",
      "pole_ang\n",
      "pole_vel\n",
      "u__force\n",
      "sq(cart_pos)\n",
      "(cart_vel*cart_pos)\n",
      "sq(cart_vel)\n",
      "(pole_ang*cart_pos)\n",
      "(pole_ang*cart_vel)\n",
      "sq(pole_ang)\n",
      "(pole_vel*cart_pos)\n",
      "(pole_vel*cart_vel)\n",
      "(pole_vel*pole_ang)\n",
      "sq(pole_vel)\n",
      "(u__force*cart_pos)\n",
      "(u__force*cart_vel)\n",
      "(u__force*pole_ang)\n",
      "(u__force*pole_vel)\n",
      "sq(u__force)\n"
     ]
    }
   ],
   "source": [
    "# Output should match output of \"mySindy.get_feature_names()\"\n",
    "\n",
    "sindy_candidates = []\n",
    "\n",
    "sindy_candidates.append(1.0)\n",
    "\n",
    "for i,v in enumerate(modelvars):\n",
    "    sindy_candidates.append(v)\n",
    "\n",
    "for i,v1 in enumerate(modelvars):\n",
    "    for j,v2 in enumerate(modelvars):\n",
    "        if i >= j:\n",
    "            sindy_candidates.append(v1 * v2)\n",
    "\n",
    "# Print\n",
    "for c in sindy_candidates:\n",
    "    print(c)"
   ]
  },
  {
   "cell_type": "code",
   "execution_count": 28,
   "metadata": {},
   "outputs": [
    {
     "name": "stdout",
     "output_type": "stream",
     "text": [
      "(cart_pos)' = (0.935984*cart_vel)\n",
      "(cart_vel)' = ((((((((((((-0.183002*cart_pos)+(3.66145*cart_vel))+(6.10912*pole_ang))+(12.2369*pole_vel))+(0.834261*u__force))+(0.757547*(cart_vel*cart_pos)))+(3.59141*sq(cart_vel)))+(0.641811*(pole_ang*cart_pos)))+(-0.0897893*(pole_vel*cart_pos)))+(-8.6968*sq(pole_vel)))+(-4.12617*(u__force*cart_pos)))+(-0.186817*(u__force*pole_ang)))\n",
      "(pole_ang)' = ((0.4849*pole_ang)+(0.845508*pole_vel))\n",
      "(pole_vel)' = (((((((((((((((0.29053*cart_pos)+(-5.48737*cart_vel))+(5.86842*pole_ang))+(-18.4839*pole_vel))+(-1.25455*u__force))+(-0.158161*sq(cart_pos)))+(-1.76917*(cart_vel*cart_pos)))+(-6.64134*sq(cart_vel)))+(-1.40708*(pole_ang*cart_pos)))+(0.275318*sq(pole_ang)))+(-2.03809*(pole_vel*cart_pos)))+(0.369465*(pole_vel*cart_vel)))+(15.0951*sq(pole_vel)))+(4.14738*(u__force*cart_pos)))+(0.522058*(u__force*pole_ang)))\n"
     ]
    }
   ],
   "source": [
    "for i, v in enumerate(modelvars_x):\n",
    "    rhs = 0.0\n",
    "    coeffs_vector = mySindy.coefficients()[i, :]\n",
    "    for j, cand in enumerate(sindy_candidates):\n",
    "        coeff = coeffs_vector[j]\n",
    "        if abs(coeff) >= 0.0001:\n",
    "            rhs = rhs + coeff * cand\n",
    "    print(f\"({v.name()})' = {rhs}\")\n",
    "    myModel.set_rhs(v.name(), rhs)\n",
    "\n",
    "myModel.setup()"
   ]
  },
  {
   "cell_type": "code",
   "execution_count": 43,
   "metadata": {},
   "outputs": [],
   "source": [
    "mpc = mpc_contr.MPC(myModel)\n",
    "\n",
    "setup_mpc = {\n",
    "    'n_horizon': 20,\n",
    "    't_step': 0.1,\n",
    "    'n_robust': 1,\n",
    "    'store_full_solution': True,\n",
    "}\n",
    "mpc.set_param(**setup_mpc)\n",
    "\n",
    "# mterm = cart_pos**2 + pole_ang**2 \n",
    "# lterm = cart_pos**2 + pole_ang**2 \n",
    "mterm = pole_ang**2 \n",
    "lterm = cart_pos**2 + pole_ang**2 \n",
    "mpc.set_objective(mterm=mterm, lterm=lterm)\n",
    "\n",
    "mpc.bounds['lower','_u', 'u__force'] = -10.0\n",
    "mpc.bounds['upper','_u', 'u__force'] = 10.0\n",
    "mpc.setup()"
   ]
  },
  {
   "cell_type": "code",
   "execution_count": 44,
   "metadata": {},
   "outputs": [],
   "source": [
    "class MPCCartPoleAgentCont(cpagent.CartPoleAgentABC):\n",
    "    def __init__(self, mpc: mpc_contr.MPC) -> None:\n",
    "        self.mpc = mpc\n",
    "\n",
    "    def step(self, env_state: np.ndarray) -> int|float:\n",
    "        u = mpc.make_step(np.array([\n",
    "            1.0*env_state[0],\n",
    "            env_state[1],\n",
    "            env_state[2],\n",
    "            env_state[3],\n",
    "        ]))\n",
    "        return u[0]"
   ]
  },
  {
   "cell_type": "code",
   "execution_count": 45,
   "metadata": {},
   "outputs": [
    {
     "data": {
      "text/html": [
       "<div>\n",
       "<style scoped>\n",
       "    .dataframe tbody tr th:only-of-type {\n",
       "        vertical-align: middle;\n",
       "    }\n",
       "\n",
       "    .dataframe tbody tr th {\n",
       "        vertical-align: top;\n",
       "    }\n",
       "\n",
       "    .dataframe thead th {\n",
       "        text-align: right;\n",
       "    }\n",
       "</style>\n",
       "<table border=\"1\" class=\"dataframe\">\n",
       "  <thead>\n",
       "    <tr style=\"text-align: right;\">\n",
       "      <th></th>\n",
       "      <th>ep</th>\n",
       "      <th>t</th>\n",
       "      <th>cart_pos</th>\n",
       "      <th>cart_vel</th>\n",
       "      <th>pole_ang</th>\n",
       "      <th>pole_vel</th>\n",
       "      <th>pos_deviation</th>\n",
       "      <th>force</th>\n",
       "      <th>reward</th>\n",
       "      <th>cart_pos_setpoint</th>\n",
       "    </tr>\n",
       "  </thead>\n",
       "  <tbody>\n",
       "    <tr>\n",
       "      <th>0</th>\n",
       "      <td>0</td>\n",
       "      <td>0</td>\n",
       "      <td>0.033795</td>\n",
       "      <td>-0.002600</td>\n",
       "      <td>-0.004143</td>\n",
       "      <td>0.028240</td>\n",
       "      <td>0.033795</td>\n",
       "      <td>0.0</td>\n",
       "      <td>NaN</td>\n",
       "      <td>0.0</td>\n",
       "    </tr>\n",
       "    <tr>\n",
       "      <th>1</th>\n",
       "      <td>0</td>\n",
       "      <td>1</td>\n",
       "      <td>0.033743</td>\n",
       "      <td>0.192581</td>\n",
       "      <td>-0.003578</td>\n",
       "      <td>-0.265747</td>\n",
       "      <td>0.033743</td>\n",
       "      <td>10.0</td>\n",
       "      <td>0.999431</td>\n",
       "      <td>0.0</td>\n",
       "    </tr>\n",
       "    <tr>\n",
       "      <th>2</th>\n",
       "      <td>0</td>\n",
       "      <td>2</td>\n",
       "      <td>0.037595</td>\n",
       "      <td>0.387754</td>\n",
       "      <td>-0.008893</td>\n",
       "      <td>-0.559557</td>\n",
       "      <td>0.037595</td>\n",
       "      <td>10.0</td>\n",
       "      <td>0.999293</td>\n",
       "      <td>0.0</td>\n",
       "    </tr>\n",
       "    <tr>\n",
       "      <th>3</th>\n",
       "      <td>0</td>\n",
       "      <td>3</td>\n",
       "      <td>0.045350</td>\n",
       "      <td>0.387879</td>\n",
       "      <td>-0.020084</td>\n",
       "      <td>-0.562358</td>\n",
       "      <td>0.045350</td>\n",
       "      <td>-10.0</td>\n",
       "      <td>0.998972</td>\n",
       "      <td>0.0</td>\n",
       "    </tr>\n",
       "    <tr>\n",
       "      <th>4</th>\n",
       "      <td>0</td>\n",
       "      <td>4</td>\n",
       "      <td>0.053107</td>\n",
       "      <td>0.388161</td>\n",
       "      <td>-0.031331</td>\n",
       "      <td>-0.568685</td>\n",
       "      <td>0.053107</td>\n",
       "      <td>-10.0</td>\n",
       "      <td>0.998590</td>\n",
       "      <td>0.0</td>\n",
       "    </tr>\n",
       "    <tr>\n",
       "      <th>...</th>\n",
       "      <td>...</td>\n",
       "      <td>...</td>\n",
       "      <td>...</td>\n",
       "      <td>...</td>\n",
       "      <td>...</td>\n",
       "      <td>...</td>\n",
       "      <td>...</td>\n",
       "      <td>...</td>\n",
       "      <td>...</td>\n",
       "      <td>...</td>\n",
       "    </tr>\n",
       "    <tr>\n",
       "      <th>378</th>\n",
       "      <td>9</td>\n",
       "      <td>42</td>\n",
       "      <td>-0.050384</td>\n",
       "      <td>0.024437</td>\n",
       "      <td>-0.394971</td>\n",
       "      <td>-1.550363</td>\n",
       "      <td>-0.050384</td>\n",
       "      <td>-10.0</td>\n",
       "      <td>0.998731</td>\n",
       "      <td>0.0</td>\n",
       "    </tr>\n",
       "    <tr>\n",
       "      <th>379</th>\n",
       "      <td>9</td>\n",
       "      <td>43</td>\n",
       "      <td>-0.049895</td>\n",
       "      <td>0.028583</td>\n",
       "      <td>-0.425978</td>\n",
       "      <td>-1.669229</td>\n",
       "      <td>-0.049895</td>\n",
       "      <td>-10.0</td>\n",
       "      <td>0.998755</td>\n",
       "      <td>0.0</td>\n",
       "    </tr>\n",
       "    <tr>\n",
       "      <th>380</th>\n",
       "      <td>9</td>\n",
       "      <td>44</td>\n",
       "      <td>-0.049323</td>\n",
       "      <td>0.032803</td>\n",
       "      <td>-0.459363</td>\n",
       "      <td>-1.796479</td>\n",
       "      <td>-0.049323</td>\n",
       "      <td>-10.0</td>\n",
       "      <td>0.998784</td>\n",
       "      <td>0.0</td>\n",
       "    </tr>\n",
       "    <tr>\n",
       "      <th>381</th>\n",
       "      <td>9</td>\n",
       "      <td>45</td>\n",
       "      <td>-0.048667</td>\n",
       "      <td>0.037046</td>\n",
       "      <td>-0.495292</td>\n",
       "      <td>-1.932536</td>\n",
       "      <td>-0.048667</td>\n",
       "      <td>-10.0</td>\n",
       "      <td>0.998816</td>\n",
       "      <td>0.0</td>\n",
       "    </tr>\n",
       "    <tr>\n",
       "      <th>382</th>\n",
       "      <td>9</td>\n",
       "      <td>46</td>\n",
       "      <td>-0.047926</td>\n",
       "      <td>0.041242</td>\n",
       "      <td>-0.533943</td>\n",
       "      <td>-2.077808</td>\n",
       "      <td>-0.047926</td>\n",
       "      <td>-10.0</td>\n",
       "      <td>0.498852</td>\n",
       "      <td>0.0</td>\n",
       "    </tr>\n",
       "  </tbody>\n",
       "</table>\n",
       "<p>383 rows × 10 columns</p>\n",
       "</div>"
      ],
      "text/plain": [
       "     ep   t  cart_pos  cart_vel  pole_ang  pole_vel  pos_deviation  force  \\\n",
       "0     0   0  0.033795 -0.002600 -0.004143  0.028240       0.033795    0.0   \n",
       "1     0   1  0.033743  0.192581 -0.003578 -0.265747       0.033743   10.0   \n",
       "2     0   2  0.037595  0.387754 -0.008893 -0.559557       0.037595   10.0   \n",
       "3     0   3  0.045350  0.387879 -0.020084 -0.562358       0.045350  -10.0   \n",
       "4     0   4  0.053107  0.388161 -0.031331 -0.568685       0.053107  -10.0   \n",
       "..   ..  ..       ...       ...       ...       ...            ...    ...   \n",
       "378   9  42 -0.050384  0.024437 -0.394971 -1.550363      -0.050384  -10.0   \n",
       "379   9  43 -0.049895  0.028583 -0.425978 -1.669229      -0.049895  -10.0   \n",
       "380   9  44 -0.049323  0.032803 -0.459363 -1.796479      -0.049323  -10.0   \n",
       "381   9  45 -0.048667  0.037046 -0.495292 -1.932536      -0.048667  -10.0   \n",
       "382   9  46 -0.047926  0.041242 -0.533943 -2.077808      -0.047926  -10.0   \n",
       "\n",
       "       reward  cart_pos_setpoint  \n",
       "0         NaN                0.0  \n",
       "1    0.999431                0.0  \n",
       "2    0.999293                0.0  \n",
       "3    0.998972                0.0  \n",
       "4    0.998590                0.0  \n",
       "..        ...                ...  \n",
       "378  0.998731                0.0  \n",
       "379  0.998755                0.0  \n",
       "380  0.998784                0.0  \n",
       "381  0.998816                0.0  \n",
       "382  0.498852                0.0  \n",
       "\n",
       "[383 rows x 10 columns]"
      ]
     },
     "execution_count": 45,
     "metadata": {},
     "output_type": "execute_result"
    }
   ],
   "source": [
    "# Baseline agent\n",
    "mpcagent = MPCCartPoleAgentCont(mpc)\n",
    "dfmpc = cpagent.execute_cartpole(agent, env=cpenvs.MovingCartpoleEnvEnvCont(), num_episodes=10)\n",
    "dfmpc"
   ]
  },
  {
   "cell_type": "code",
   "execution_count": 46,
   "metadata": {},
   "outputs": [
    {
     "data": {
      "application/vnd.plotly.v1+json": {
       "config": {
        "plotlyServerURL": "https://plot.ly"
       },
       "data": [
        {
         "mode": "lines",
         "name": "cart_pos",
         "showlegend": false,
         "type": "scatter",
         "x": [
          0,
          1,
          2,
          3,
          4,
          5,
          6,
          7,
          8,
          9,
          10,
          11,
          12,
          13,
          14,
          15,
          16,
          17,
          18,
          19,
          20,
          21,
          22,
          23,
          24,
          25,
          26,
          27,
          28
         ],
         "xaxis": "x",
         "y": [
          0.03379500838728601,
          0.03374301269650459,
          0.037594638764858246,
          0.04534972459077835,
          0.053107306361198425,
          0.060870520770549774,
          0.0686425194144249,
          0.07642646878957748,
          0.08422558754682541,
          0.09204312413930893,
          0.09988241642713547,
          0.10774686187505722,
          0.11563995480537415,
          0.12356527149677277,
          0.13152649998664856,
          0.13952742516994476,
          0.14757193624973297,
          0.15566401183605194,
          0.1638077050447464,
          0.17200709879398346,
          0.180266335606575,
          0.18858948349952698,
          0.1969805210828781,
          0.20544324815273285,
          0.21398115158081055,
          0.22259727120399475,
          0.23129400610923767,
          0.24007290601730347,
          0.24893438816070557
         ],
         "yaxis": "y"
        },
        {
         "line": {
          "color": "black",
          "dash": "dash"
         },
         "mode": "lines",
         "name": "cart_pos_setpoint",
         "showlegend": false,
         "type": "scatter",
         "x": [
          0,
          1,
          2,
          3,
          4,
          5,
          6,
          7,
          8,
          9,
          10,
          11,
          12,
          13,
          14,
          15,
          16,
          17,
          18,
          19,
          20,
          21,
          22,
          23,
          24,
          25,
          26,
          27,
          28
         ],
         "xaxis": "x",
         "y": [
          0,
          0,
          0,
          0,
          0,
          0,
          0,
          0,
          0,
          0,
          0,
          0,
          0,
          0,
          0,
          0,
          0,
          0,
          0,
          0,
          0,
          0,
          0,
          0,
          0,
          0,
          0,
          0,
          0
         ],
         "yaxis": "y"
        },
        {
         "mode": "lines",
         "name": "pole_ang_deg",
         "showlegend": false,
         "type": "scatter",
         "x": [
          0,
          1,
          2,
          3,
          4,
          5,
          6,
          7,
          8,
          9,
          10,
          11,
          12,
          13,
          14,
          15,
          16,
          17,
          18,
          19,
          20,
          21,
          22,
          23,
          24,
          25,
          26,
          27,
          28
         ],
         "xaxis": "x2",
         "y": [
          -0.23737367489365271,
          -0.20501317053853088,
          -0.5095371280031229,
          -1.1507418403489915,
          -1.7951570617698835,
          -2.4468224222730384,
          -3.109796014720795,
          -3.7881791542663357,
          -4.48613996385066,
          -5.2079394142987985,
          -5.9579539493214355,
          -6.74070216594136,
          -7.560868293268729,
          -8.423329086370932,
          -9.333178585708332,
          -10.295753730343643,
          -11.316662105585449,
          -12.401805848650286,
          -13.557408969419328,
          -14.79004381742142,
          -16.10665327994788,
          -17.51457554148824,
          -19.02156969693964,
          -20.6358285582115,
          -22.36599914479306,
          -24.221192929037123,
          -26.21099095880192,
          -28.34544556499841,
          -30.635068408759256
         ],
         "yaxis": "y2"
        }
       ],
       "layout": {
        "height": 800,
        "hovermode": "x unified",
        "legend": {
         "orientation": "h",
         "x": 0.5,
         "xanchor": "center",
         "y": -0.02,
         "yanchor": "top"
        },
        "margin": {
         "b": 10,
         "l": 90,
         "r": 10,
         "t": 10
        },
        "template": {
         "data": {
          "scatter": [
           {
            "type": "scatter"
           }
          ]
         }
        },
        "xaxis": {
         "anchor": "y",
         "domain": [
          0,
          1
         ],
         "matches": "x2",
         "range": [
          0,
          500
         ],
         "showticklabels": false,
         "tickfont": {
          "size": 18
         }
        },
        "xaxis2": {
         "anchor": "y2",
         "domain": [
          0,
          1
         ],
         "range": [
          0,
          500
         ],
         "rangeslider": {
          "visible": true
         },
         "tickfont": {
          "size": 18
         }
        },
        "yaxis": {
         "anchor": "x",
         "domain": [
          0.51,
          1
         ],
         "range": [
          -1.600000023841858,
          1.600000023841858
         ],
         "tickfont": {
          "size": 18
         },
         "title": {
          "font": {
           "size": 30
          },
          "text": "cart_pos"
         }
        },
        "yaxis2": {
         "anchor": "x2",
         "domain": [
          0,
          0.49
         ],
         "range": [
          -9.999999046325684,
          9.999999046325684
         ],
         "tickfont": {
          "size": 18
         },
         "title": {
          "font": {
           "size": 30
          },
          "text": "pole_ang_deg"
         }
        }
       }
      }
     },
     "metadata": {},
     "output_type": "display_data"
    }
   ],
   "source": [
    "EP = 0\n",
    "\n",
    "fig = cprender.lineplot(dfmpc, ep=EP, incl_velo=False)\n",
    "fig.show()"
   ]
  }
 ],
 "metadata": {
  "kernelspec": {
   "display_name": ".env",
   "language": "python",
   "name": "python3"
  },
  "language_info": {
   "codemirror_mode": {
    "name": "ipython",
    "version": 3
   },
   "file_extension": ".py",
   "mimetype": "text/x-python",
   "name": "python",
   "nbconvert_exporter": "python",
   "pygments_lexer": "ipython3",
   "version": "3.10.11"
  }
 },
 "nbformat": 4,
 "nbformat_minor": 2
}
