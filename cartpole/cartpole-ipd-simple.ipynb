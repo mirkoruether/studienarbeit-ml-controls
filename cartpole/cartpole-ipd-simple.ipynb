{
 "cells": [
  {
   "cell_type": "code",
   "execution_count": 19,
   "metadata": {},
   "outputs": [
    {
     "name": "stdout",
     "output_type": "stream",
     "text": [
      "Collecting pyglet (from -r ../requirements.txt (line 2))\n",
      "  Downloading pyglet-2.0.10-py3-none-any.whl.metadata (8.5 kB)\n",
      "Requirement already satisfied: pandas in c:\\source\\studienarbeit-ml-controls\\.env\\lib\\site-packages (from -r ../requirements.txt (line 3)) (2.1.4)\n",
      "Requirement already satisfied: numpy in c:\\source\\studienarbeit-ml-controls\\.env\\lib\\site-packages (from -r ../requirements.txt (line 4)) (1.26.2)\n",
      "Requirement already satisfied: scipy in c:\\source\\studienarbeit-ml-controls\\.env\\lib\\site-packages (from -r ../requirements.txt (line 5)) (1.11.4)\n",
      "Requirement already satisfied: matplotlib in c:\\source\\studienarbeit-ml-controls\\.env\\lib\\site-packages (from -r ../requirements.txt (line 6)) (3.8.2)\n",
      "Requirement already satisfied: seaborn in c:\\source\\studienarbeit-ml-controls\\.env\\lib\\site-packages (from -r ../requirements.txt (line 7)) (0.13.0)\n",
      "Requirement already satisfied: plotly in c:\\source\\studienarbeit-ml-controls\\.env\\lib\\site-packages (from -r ../requirements.txt (line 8)) (5.18.0)\n",
      "Requirement already satisfied: ipykernel in c:\\source\\studienarbeit-ml-controls\\.env\\lib\\site-packages (from -r ../requirements.txt (line 9)) (6.27.1)\n",
      "Requirement already satisfied: gymnasium[classic-control] in c:\\source\\studienarbeit-ml-controls\\.env\\lib\\site-packages (from -r ../requirements.txt (line 1)) (0.29.1)\n",
      "Requirement already satisfied: cloudpickle>=1.2.0 in c:\\source\\studienarbeit-ml-controls\\.env\\lib\\site-packages (from gymnasium[classic-control]->-r ../requirements.txt (line 1)) (3.0.0)\n",
      "Requirement already satisfied: typing-extensions>=4.3.0 in c:\\source\\studienarbeit-ml-controls\\.env\\lib\\site-packages (from gymnasium[classic-control]->-r ../requirements.txt (line 1)) (4.9.0)\n",
      "Requirement already satisfied: farama-notifications>=0.0.1 in c:\\source\\studienarbeit-ml-controls\\.env\\lib\\site-packages (from gymnasium[classic-control]->-r ../requirements.txt (line 1)) (0.0.4)\n",
      "Requirement already satisfied: pygame>=2.1.3 in c:\\source\\studienarbeit-ml-controls\\.env\\lib\\site-packages (from gymnasium[classic-control]->-r ../requirements.txt (line 1)) (2.5.2)\n",
      "Requirement already satisfied: python-dateutil>=2.8.2 in c:\\source\\studienarbeit-ml-controls\\.env\\lib\\site-packages (from pandas->-r ../requirements.txt (line 3)) (2.8.2)\n",
      "Requirement already satisfied: pytz>=2020.1 in c:\\source\\studienarbeit-ml-controls\\.env\\lib\\site-packages (from pandas->-r ../requirements.txt (line 3)) (2023.3.post1)\n",
      "Requirement already satisfied: tzdata>=2022.1 in c:\\source\\studienarbeit-ml-controls\\.env\\lib\\site-packages (from pandas->-r ../requirements.txt (line 3)) (2023.3)\n",
      "Requirement already satisfied: contourpy>=1.0.1 in c:\\source\\studienarbeit-ml-controls\\.env\\lib\\site-packages (from matplotlib->-r ../requirements.txt (line 6)) (1.2.0)\n",
      "Requirement already satisfied: cycler>=0.10 in c:\\source\\studienarbeit-ml-controls\\.env\\lib\\site-packages (from matplotlib->-r ../requirements.txt (line 6)) (0.12.1)\n",
      "Requirement already satisfied: fonttools>=4.22.0 in c:\\source\\studienarbeit-ml-controls\\.env\\lib\\site-packages (from matplotlib->-r ../requirements.txt (line 6)) (4.46.0)\n",
      "Requirement already satisfied: kiwisolver>=1.3.1 in c:\\source\\studienarbeit-ml-controls\\.env\\lib\\site-packages (from matplotlib->-r ../requirements.txt (line 6)) (1.4.5)\n",
      "Requirement already satisfied: packaging>=20.0 in c:\\source\\studienarbeit-ml-controls\\.env\\lib\\site-packages (from matplotlib->-r ../requirements.txt (line 6)) (23.2)\n",
      "Requirement already satisfied: pillow>=8 in c:\\source\\studienarbeit-ml-controls\\.env\\lib\\site-packages (from matplotlib->-r ../requirements.txt (line 6)) (10.1.0)\n",
      "Requirement already satisfied: pyparsing>=2.3.1 in c:\\source\\studienarbeit-ml-controls\\.env\\lib\\site-packages (from matplotlib->-r ../requirements.txt (line 6)) (3.1.1)\n",
      "Requirement already satisfied: tenacity>=6.2.0 in c:\\source\\studienarbeit-ml-controls\\.env\\lib\\site-packages (from plotly->-r ../requirements.txt (line 8)) (8.2.3)\n",
      "Requirement already satisfied: comm>=0.1.1 in c:\\source\\studienarbeit-ml-controls\\.env\\lib\\site-packages (from ipykernel->-r ../requirements.txt (line 9)) (0.2.0)\n",
      "Requirement already satisfied: debugpy>=1.6.5 in c:\\source\\studienarbeit-ml-controls\\.env\\lib\\site-packages (from ipykernel->-r ../requirements.txt (line 9)) (1.8.0)\n",
      "Requirement already satisfied: ipython>=7.23.1 in c:\\source\\studienarbeit-ml-controls\\.env\\lib\\site-packages (from ipykernel->-r ../requirements.txt (line 9)) (8.18.1)\n",
      "Requirement already satisfied: jupyter-client>=6.1.12 in c:\\source\\studienarbeit-ml-controls\\.env\\lib\\site-packages (from ipykernel->-r ../requirements.txt (line 9)) (8.6.0)\n",
      "Requirement already satisfied: jupyter-core!=5.0.*,>=4.12 in c:\\source\\studienarbeit-ml-controls\\.env\\lib\\site-packages (from ipykernel->-r ../requirements.txt (line 9)) (5.5.0)\n",
      "Requirement already satisfied: matplotlib-inline>=0.1 in c:\\source\\studienarbeit-ml-controls\\.env\\lib\\site-packages (from ipykernel->-r ../requirements.txt (line 9)) (0.1.6)\n",
      "Requirement already satisfied: nest-asyncio in c:\\source\\studienarbeit-ml-controls\\.env\\lib\\site-packages (from ipykernel->-r ../requirements.txt (line 9)) (1.5.8)\n",
      "Requirement already satisfied: psutil in c:\\source\\studienarbeit-ml-controls\\.env\\lib\\site-packages (from ipykernel->-r ../requirements.txt (line 9)) (5.9.7)\n",
      "Requirement already satisfied: pyzmq>=20 in c:\\source\\studienarbeit-ml-controls\\.env\\lib\\site-packages (from ipykernel->-r ../requirements.txt (line 9)) (25.1.2)\n",
      "Requirement already satisfied: tornado>=6.1 in c:\\source\\studienarbeit-ml-controls\\.env\\lib\\site-packages (from ipykernel->-r ../requirements.txt (line 9)) (6.4)\n",
      "Requirement already satisfied: traitlets>=5.4.0 in c:\\source\\studienarbeit-ml-controls\\.env\\lib\\site-packages (from ipykernel->-r ../requirements.txt (line 9)) (5.14.0)\n",
      "Requirement already satisfied: decorator in c:\\source\\studienarbeit-ml-controls\\.env\\lib\\site-packages (from ipython>=7.23.1->ipykernel->-r ../requirements.txt (line 9)) (5.1.1)\n",
      "Requirement already satisfied: jedi>=0.16 in c:\\source\\studienarbeit-ml-controls\\.env\\lib\\site-packages (from ipython>=7.23.1->ipykernel->-r ../requirements.txt (line 9)) (0.19.1)\n",
      "Requirement already satisfied: prompt-toolkit<3.1.0,>=3.0.41 in c:\\source\\studienarbeit-ml-controls\\.env\\lib\\site-packages (from ipython>=7.23.1->ipykernel->-r ../requirements.txt (line 9)) (3.0.43)\n",
      "Requirement already satisfied: pygments>=2.4.0 in c:\\source\\studienarbeit-ml-controls\\.env\\lib\\site-packages (from ipython>=7.23.1->ipykernel->-r ../requirements.txt (line 9)) (2.17.2)\n",
      "Requirement already satisfied: stack-data in c:\\source\\studienarbeit-ml-controls\\.env\\lib\\site-packages (from ipython>=7.23.1->ipykernel->-r ../requirements.txt (line 9)) (0.6.3)\n",
      "Requirement already satisfied: colorama in c:\\source\\studienarbeit-ml-controls\\.env\\lib\\site-packages (from ipython>=7.23.1->ipykernel->-r ../requirements.txt (line 9)) (0.4.6)\n",
      "Requirement already satisfied: platformdirs>=2.5 in c:\\source\\studienarbeit-ml-controls\\.env\\lib\\site-packages (from jupyter-core!=5.0.*,>=4.12->ipykernel->-r ../requirements.txt (line 9)) (4.1.0)\n",
      "Requirement already satisfied: pywin32>=300 in c:\\source\\studienarbeit-ml-controls\\.env\\lib\\site-packages (from jupyter-core!=5.0.*,>=4.12->ipykernel->-r ../requirements.txt (line 9)) (306)\n",
      "Requirement already satisfied: six>=1.5 in c:\\source\\studienarbeit-ml-controls\\.env\\lib\\site-packages (from python-dateutil>=2.8.2->pandas->-r ../requirements.txt (line 3)) (1.16.0)\n",
      "Requirement already satisfied: parso<0.9.0,>=0.8.3 in c:\\source\\studienarbeit-ml-controls\\.env\\lib\\site-packages (from jedi>=0.16->ipython>=7.23.1->ipykernel->-r ../requirements.txt (line 9)) (0.8.3)\n",
      "Requirement already satisfied: wcwidth in c:\\source\\studienarbeit-ml-controls\\.env\\lib\\site-packages (from prompt-toolkit<3.1.0,>=3.0.41->ipython>=7.23.1->ipykernel->-r ../requirements.txt (line 9)) (0.2.12)\n",
      "Requirement already satisfied: executing>=1.2.0 in c:\\source\\studienarbeit-ml-controls\\.env\\lib\\site-packages (from stack-data->ipython>=7.23.1->ipykernel->-r ../requirements.txt (line 9)) (2.0.1)\n",
      "Requirement already satisfied: asttokens>=2.1.0 in c:\\source\\studienarbeit-ml-controls\\.env\\lib\\site-packages (from stack-data->ipython>=7.23.1->ipykernel->-r ../requirements.txt (line 9)) (2.4.1)\n",
      "Requirement already satisfied: pure-eval in c:\\source\\studienarbeit-ml-controls\\.env\\lib\\site-packages (from stack-data->ipython>=7.23.1->ipykernel->-r ../requirements.txt (line 9)) (0.2.2)\n",
      "Downloading pyglet-2.0.10-py3-none-any.whl (858 kB)\n",
      "   ---------------------------------------- 0.0/858.3 kB ? eta -:--:--\n",
      "   ----- ---------------------------------- 112.6/858.3 kB 3.2 MB/s eta 0:00:01\n",
      "   ------------------- -------------------- 419.8/858.3 kB 5.2 MB/s eta 0:00:01\n",
      "   ---------------------------------------- 858.3/858.3 kB 6.8 MB/s eta 0:00:00\n",
      "Installing collected packages: pyglet\n",
      "Successfully installed pyglet-2.0.10\n",
      "Note: you may need to restart the kernel to use updated packages.\n"
     ]
    }
   ],
   "source": [
    "# %pip install -U pip wheel\n",
    "%pip install -r ../requirements.txt"
   ]
  },
  {
   "cell_type": "markdown",
   "metadata": {},
   "source": [
    "Initially Based on https://gist.github.com/HenryJia/23db12d61546054aa43f8dc587d9dc2c"
   ]
  },
  {
   "attachments": {
    "image.png": {
     "image/png": "[encoded data removed]"
    }
   },
   "cell_type": "markdown",
   "metadata": {},
   "source": [
    "![image.png](attachment:image.png)"
   ]
  },
  {
   "cell_type": "code",
   "execution_count": 20,
   "metadata": {},
   "outputs": [],
   "source": [
    "import numpy as np\n",
    "import pandas as pd\n",
    "import gymnasium as gym"
   ]
  },
  {
   "cell_type": "code",
   "execution_count": 29,
   "metadata": {},
   "outputs": [],
   "source": [
    "desired_state = np.array([0, 0, 0, 0])\n",
    "desired_mask = np.array([0.1, 0, 1, 0])\n",
    "\n",
    "P, I, D = 0.1, 0.01, 0.5"
   ]
  },
  {
   "cell_type": "code",
   "execution_count": 38,
   "metadata": {},
   "outputs": [
    {
     "name": "stderr",
     "output_type": "stream",
     "text": [
      "c:\\Source\\studienarbeit-ml-controls\\.env\\Lib\\site-packages\\gymnasium\\envs\\classic_control\\cartpole.py:215: UserWarning: \u001b[33mWARN: You are calling render method without specifying any render mode. You can specify the render_mode at initialization, e.g. gym.make(\"CartPole-v1\", render_mode=\"rgb_array\")\u001b[0m\n",
      "  gym.logger.warn(\n"
     ]
    },
    {
     "name": "stdout",
     "output_type": "stream",
     "text": [
      "Episode finished after 500 timesteps\n",
      "Episode finished after 500 timesteps\n",
      "Episode finished after 500 timesteps\n",
      "Episode finished after 500 timesteps\n",
      "Episode finished after 500 timesteps\n",
      "Episode finished after 500 timesteps\n",
      "Episode finished after 500 timesteps\n",
      "Episode finished after 500 timesteps\n",
      "Episode finished after 500 timesteps\n",
      "Episode finished after 500 timesteps\n",
      "Episode finished after 500 timesteps\n",
      "Episode finished after 500 timesteps\n",
      "Episode finished after 500 timesteps\n",
      "Episode finished after 500 timesteps\n",
      "Episode finished after 500 timesteps\n",
      "Episode finished after 500 timesteps\n",
      "Episode finished after 500 timesteps\n",
      "Episode finished after 500 timesteps\n",
      "Episode finished after 500 timesteps\n",
      "Episode finished after 500 timesteps\n"
     ]
    }
   ],
   "source": [
    "env = gym.make('CartPole-v1')\n",
    "# env = gym.make('CartPole-v1', render_mode=\"human\")\n",
    "\n",
    "for i_episode in range(20):\n",
    "    state, info = env.reset()\n",
    "    integral = 0\n",
    "    derivative = 0\n",
    "    prev_error = 0\n",
    "    for t in range(500):\n",
    "        env.render()\n",
    "        error = state - desired_state\n",
    "\n",
    "        integral += error\n",
    "        derivative = error - prev_error\n",
    "        prev_error = error\n",
    "\n",
    "        pid = np.dot(P * error + I * integral + D * derivative, desired_mask)\n",
    "\n",
    "        action = 0 if pid <= 0 else 1\n",
    "\n",
    "        state, reward, terminated, truncated, info = env.step(action)\n",
    "        #state, reward, done, info = env.step(action)\n",
    "        if terminated or truncated:\n",
    "            print(\"Episode finished after {} timesteps\".format(t+1))\n",
    "            break\n",
    "env.close()"
   ]
  },
  {
   "cell_type": "code",
   "execution_count": 24,
   "metadata": {},
   "outputs": [],
   "source": [
    "env.close()"
   ]
  },
  {
   "cell_type": "code",
   "execution_count": null,
   "metadata": {},
   "outputs": [],
   "source": [
    "import matplotlib.pyplot as plt"
   ]
  },
  {
   "cell_type": "code",
   "execution_count": null,
   "metadata": {},
   "outputs": [],
   "source": [
    "state = [0.5, 0.1, 0.05, -0.2]\n",
    "pos_setpoint = 0.1\n",
    "\n",
    "fig, ax = plt.subplots()"
   ]
  }
 ],
 "metadata": {
  "kernelspec": {
   "display_name": ".env",
   "language": "python",
   "name": "python3"
  },
  "language_info": {
   "codemirror_mode": {
    "name": "ipython",
    "version": 3
   },
   "file_extension": ".py",
   "mimetype": "text/x-python",
   "name": "python",
   "nbconvert_exporter": "python",
   "pygments_lexer": "ipython3",
   "version": "3.11.1"
  }
 },
 "nbformat": 4,
 "nbformat_minor": 2
}
